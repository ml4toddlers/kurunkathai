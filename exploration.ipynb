{
 "cells": [
  {
   "cell_type": "code",
   "execution_count": null,
   "metadata": {},
   "outputs": [],
   "source": [
    "# Load model directly\n",
    "import transformers \n",
    "import torch\n",
    "model_id = \"meta-llama/Llama-3.1-8B-Instruct\"\n",
    "pipeline = transformers.pipeline(\"text-generation\", model=model_id, model_kwargs={\"torch_dtype\": torch.bfloat16}, device_map=\"auto\",return_full_text=False)"
   ]
  },
  {
   "cell_type": "code",
   "execution_count": 3,
   "metadata": {},
   "outputs": [
    {
     "data": {
      "text/plain": [
       "['வணக்கம், நீங்கள் எப்படி இருக்கிறீர்கள்?', 'நான் நன்றாக இருக்கிறேன், நன்றி.']"
      ]
     },
     "execution_count": 3,
     "metadata": {},
     "output_type": "execute_result"
    }
   ],
   "source": [
    "from deep_translator import GoogleTranslator\n",
    "\n",
    "translator = GoogleTranslator(source='en', target='ta')\n",
    "translator.translate_batch(batch=[\"Hello, how are you?\", \"I am fine, thank you.\"], src=\"en\", dest=\"ta\")"
   ]
  },
  {
   "cell_type": "code",
   "execution_count": 11,
   "metadata": {},
   "outputs": [
    {
     "data": {
      "text/plain": [
       "1000"
      ]
     },
     "execution_count": 11,
     "metadata": {},
     "output_type": "execute_result"
    }
   ],
   "source": [
    "from datasets import load_from_disk\n",
    "ds = load_from_disk(\"ta_tinystories_google_translate\")\n",
    "len( ds[\"train\"])"
   ]
  },
  {
   "cell_type": "code",
   "execution_count": 28,
   "metadata": {},
   "outputs": [],
   "source": [
    "def translate_indices(ds, split, start_index, num_batches, batch_size=500, odir=\"chunks\"):\n",
    "    end_index = start_index + num_batches * batch_size\n",
    "    translator = GoogleTranslator(source='en', target='ta')\n",
    "    translated_sublist = []\n",
    "    for i in range(start_index, end_index, batch_size):\n",
    "        batch =  ds[split][i:i+batch_size][\"text\"]\n",
    "        translated = translator.translate_batch(batch=batch)\n",
    "        translated_sublist.extend([ {idx+start_index:item} for idx,item in enumerate(translated)])\n",
    "    with open(f\"{odir}/{split}_{start_index}_{end_index}.json\", \"w\") as f:\n",
    "        json.dump(translated_sublist, f)\n",
    "    return translated_sublist"
   ]
  },
  {
   "cell_type": "code",
   "execution_count": 32,
   "metadata": {},
   "outputs": [
    {
     "ename": "NameError",
     "evalue": "name 'json' is not defined",
     "output_type": "error",
     "traceback": [
      "\u001b[0;31m---------------------------------------------------------------------------\u001b[0m",
      "\u001b[0;31mNameError\u001b[0m                                 Traceback (most recent call last)",
      "Cell \u001b[0;32mIn[32], line 2\u001b[0m\n\u001b[1;32m      1\u001b[0m \u001b[38;5;28;01mfrom\u001b[39;00m\u001b[38;5;250m \u001b[39m\u001b[38;5;21;01mdeep_translator\u001b[39;00m\u001b[38;5;250m \u001b[39m\u001b[38;5;28;01mimport\u001b[39;00m GoogleTranslator\n\u001b[0;32m----> 2\u001b[0m ta_ls\u001b[38;5;241m=\u001b[39m\u001b[43mtranslate_indices\u001b[49m\u001b[43m(\u001b[49m\u001b[43mds_en\u001b[49m\u001b[43m,\u001b[49m\u001b[38;5;124;43m\"\u001b[39;49m\u001b[38;5;124;43mtrain\u001b[39;49m\u001b[38;5;124;43m\"\u001b[39;49m\u001b[43m,\u001b[49m\u001b[38;5;241;43m0\u001b[39;49m\u001b[43m,\u001b[49m\u001b[38;5;241;43m4\u001b[39;49m\u001b[43m)\u001b[49m\n",
      "Cell \u001b[0;32mIn[28], line 10\u001b[0m, in \u001b[0;36mtranslate_indices\u001b[0;34m(ds, split, start_index, num_batches, batch_size, odir)\u001b[0m\n\u001b[1;32m      8\u001b[0m     translated_sublist\u001b[38;5;241m.\u001b[39mextend([ {idx\u001b[38;5;241m+\u001b[39mstart_index:item} \u001b[38;5;28;01mfor\u001b[39;00m idx,item \u001b[38;5;129;01min\u001b[39;00m \u001b[38;5;28menumerate\u001b[39m(translated)])\n\u001b[1;32m      9\u001b[0m \u001b[38;5;28;01mwith\u001b[39;00m \u001b[38;5;28mopen\u001b[39m(\u001b[38;5;124mf\u001b[39m\u001b[38;5;124m\"\u001b[39m\u001b[38;5;132;01m{\u001b[39;00modir\u001b[38;5;132;01m}\u001b[39;00m\u001b[38;5;124m/\u001b[39m\u001b[38;5;132;01m{\u001b[39;00msplit\u001b[38;5;132;01m}\u001b[39;00m\u001b[38;5;124m_\u001b[39m\u001b[38;5;132;01m{\u001b[39;00mstart_index\u001b[38;5;132;01m}\u001b[39;00m\u001b[38;5;124m_\u001b[39m\u001b[38;5;132;01m{\u001b[39;00mend_index\u001b[38;5;132;01m}\u001b[39;00m\u001b[38;5;124m.json\u001b[39m\u001b[38;5;124m\"\u001b[39m, \u001b[38;5;124m\"\u001b[39m\u001b[38;5;124mw\u001b[39m\u001b[38;5;124m\"\u001b[39m) \u001b[38;5;28;01mas\u001b[39;00m f:\n\u001b[0;32m---> 10\u001b[0m     \u001b[43mjson\u001b[49m\u001b[38;5;241m.\u001b[39mdump(translated_sublist, f)\n\u001b[1;32m     11\u001b[0m \u001b[38;5;28;01mreturn\u001b[39;00m translated_sublist\n",
      "\u001b[0;31mNameError\u001b[0m: name 'json' is not defined"
     ]
    }
   ],
   "source": [
    "from deep_translator import GoogleTranslator\n",
    "ta_ls=translate_indices(ds_en,\"train\",0,4)"
   ]
  },
  {
   "cell_type": "code",
   "execution_count": 29,
   "metadata": {},
   "outputs": [],
   "source": [
    "import os\n",
    "os.makedirs(\"chunks\", exist_ok=True)"
   ]
  },
  {
   "cell_type": "code",
   "execution_count": null,
   "metadata": {},
   "outputs": [],
   "source": [
    "import asyncio\n",
    "from googletrans import Translator\n",
    "async def translate_bulk(inputs):\n",
    "    translator = Translator()\n",
    "    loop = asyncio.get_running_loop()\n",
    "\n",
    "    # Run translate() in an executor to avoid blocking\n",
    "    translations = await loop.run_in_executor(None, translator.translate, inputs, 'ta')\n",
    "\n",
    "    # Ensure translations is always a list\n",
    "    if not isinstance(translations, list):\n",
    "        translations = [translations]\n",
    "\n",
    "    for translation in translations:\n",
    "        print(translation.origin, ' -> ', translation.text)"
   ]
  },
  {
   "cell_type": "code",
   "execution_count": 14,
   "metadata": {},
   "outputs": [],
   "source": [
    "from datasets import load_dataset\n",
    "\n",
    "from torch.utils.data import DataLoader\n",
    "def collate_text(batch):\n",
    "    return [item[\"text\"] for item in batch]\n",
    "ds_en = load_dataset(\"roneneldan/TinyStories\")\n",
    "dataloader = DataLoader(ds[\"train\"], batch_size = 500, shuffle = False, collate_fn = collate_text)"
   ]
  },
  {
   "cell_type": "code",
   "execution_count": 9,
   "metadata": {},
   "outputs": [],
   "source": [
    "iter_loader =(iter(dataloader))"
   ]
  },
  {
   "cell_type": "code",
   "execution_count": 10,
   "metadata": {},
   "outputs": [
    {
     "ename": "TypeError",
     "evalue": "'_SingleProcessDataLoaderIter' object is not subscriptable",
     "output_type": "error",
     "traceback": [
      "\u001b[0;31m---------------------------------------------------------------------------\u001b[0m",
      "\u001b[0;31mTypeError\u001b[0m                                 Traceback (most recent call last)",
      "Cell \u001b[0;32mIn[10], line 1\u001b[0m\n\u001b[0;32m----> 1\u001b[0m \u001b[43miter_loader\u001b[49m\u001b[43m[\u001b[49m\u001b[38;5;241;43m0\u001b[39;49m\u001b[43m]\u001b[49m\n",
      "\u001b[0;31mTypeError\u001b[0m: '_SingleProcessDataLoaderIter' object is not subscriptable"
     ]
    }
   ],
   "source": [
    "iter_loader[0]"
   ]
  },
  {
   "cell_type": "code",
   "execution_count": 11,
   "metadata": {},
   "outputs": [],
   "source": [
    "from deep_translator import GoogleTranslator\n",
    "translator = GoogleTranslator(source='en', target='ta')\n",
    "translations = translator.translate_batch(batch)"
   ]
  },
  {
   "cell_type": "code",
   "execution_count": 8,
   "metadata": {},
   "outputs": [
    {
     "data": {
      "text/plain": [
       "'ஒரு நாள், லில்லி என்ற சிறுமி தனது அறையில் ஒரு ஊசியைக் கண்டாள். அது கூர்மையாக இருந்ததால் அதனுடன் விளையாடுவது கடினம் என்று அவளுக்குத் தெரியும். லில்லி தனது அம்மாவுடன் ஊசியைப் பகிர்ந்து கொள்ள விரும்பினார், அதனால் அவள் சட்டையில் ஒரு பொத்தானை தைக்க முடியும்.\\n\\nலில்லி தனது அம்மாவிடம் சென்று, \"அம்மா, நான் இந்த ஊசியைக் கண்டேன். நீங்கள் அதை என்னுடன் பகிர்ந்து கொண்டு என் சட்டையை தைக்க முடியுமா?\" அவளுடைய அம்மா புன்னகைத்து, \"ஆம், லில்லி, நாங்கள் ஊசியைப் பகிர்ந்துகொண்டு உங்கள் சட்டையை சரிசெய்யலாம்\" என்றார்.\\n\\nஒன்றாக, அவர்கள் ஊசியைப் பகிர்ந்துகொண்டு லில்லி சட்டையில் பொத்தானை தைத்தனர். அவர்கள் ஒருவருக்கொருவர் பகிர்ந்துகொண்டு உதவுவதால் அவர்களுக்கு இது கடினம் அல்ல. அவர்கள் முடிந்ததும், ஊசியைப் பகிர்ந்துகொண்டு தனது சட்டையை சரிசெய்ததற்காக லில்லி தனது அம்மாவுக்கு நன்றி தெரிவித்தார். அவர்கள் இருவரும் மகிழ்ச்சியாக உணர்ந்தார்கள், ஏனெனில் அவர்கள் பகிர்ந்து கொண்டனர் மற்றும் ஒன்றாக வேலை செய்தனர்.'"
      ]
     },
     "execution_count": 8,
     "metadata": {},
     "output_type": "execute_result"
    }
   ],
   "source": [
    "translations[0]"
   ]
  },
  {
   "cell_type": "code",
   "execution_count": null,
   "metadata": {},
   "outputs": [],
   "source": [
    "inputs = [ds[\"train\"][i][\"text\"] for i in range(1000)]\n",
    "async def main():\n",
    "    await translate_bulk(inputs)\n",
    "asyncio.create_task(main())"
   ]
  },
  {
   "cell_type": "code",
   "execution_count": null,
   "metadata": {},
   "outputs": [],
   "source": [
    "system_prompt = \"You are a translator. I will tell you a story in words that a 4 year old can understand. You will translate it to Tamil for me\"\n",
    "message = ds[\"train\"][-1][\"text\"]\n",
    "final_input = [\n",
    "    {\"role\": \"assistant\", \"content\": system_prompt},\n",
    "    {\"role\": \"user\", \"content\": message}\n",
    "]\n",
    "print(final_input)"
   ]
  },
  {
   "cell_type": "code",
   "execution_count": null,
   "metadata": {},
   "outputs": [],
   "source": [
    "from ollama import chat\n",
    "from ollama import ChatResponse\n",
    "\n",
    "response: ChatResponse = chat(model='gemma2', messages=final_input)\n",
    "print(response['message']['content'])"
   ]
  },
  {
   "cell_type": "code",
   "execution_count": null,
   "metadata": {},
   "outputs": [],
   "source": [
    "# Use a pipeline as a high-level helper\n",
    "from transformers import pipeline\n",
    "\n",
    "messages = [\n",
    "    {\"role\": \"user\", \"content\": \"Who are you?\"},\n",
    "]\n",
    "pipe = pipeline(\"text-generation\", model=\"abhinand/tamil-llama-7b-instruct-v0.2\", device_map=\"auto\")"
   ]
  },
  {
   "cell_type": "code",
   "execution_count": null,
   "metadata": {},
   "outputs": [],
   "source": [
    "\n",
    "pipe(final_input)"
   ]
  },
  {
   "cell_type": "code",
   "execution_count": null,
   "metadata": {},
   "outputs": [],
   "source": [
    "ஒருநாள், ஒரு சிறுமி சிலி (Lily) இன் அறையில் ஒரு துளையினை கண்டார். அவள் அது விளையாட முடியாது என்பதனாலும், அது கூரானதாக இருப்பதால் மட்டும் தெரிந்திருந்தது. சிலி அவளை தாய்விடம் பகிர்ந்து கொள்ள விரும்பினார், அ\n",
    "அதனால் அவர் துணிகளில் ஒரு பட்டனை இணைக்கலாம். சிலி தாயாரிடம் சென்று \"அம்மா, நான் ஒரு துளையினை கண்டேன். நீங்கள் எனது உடையில் ஒரு பட்டனை இணைக்க போதும்.\" என்று கூறினார். அம்மா சிரித்துப் பேசினார்: \"ஆம் சிலி, ந\n",
    "நாங்கள் துளையைப் பகிர்ந்து கொண்டு உன் உடையின் பட்டனை இணைக்கலாம்.\"\n",
    "\n",
    "இருவரும் துளையினைப் பகிர்ந்து கொண்டு உடையில் பட்டனை இணைத்தார்கள். அது அவர்களுக்கு கடினமில்லை, ஏனென்றால் அவர்கள் ஒன்றுக்கொன்று உதவி செய்து கொண்டார்கள். முடிந்தவுடன் சிலி தாயாருக்கு துளையினைப் பகிர்ந்து கொ\n",
    "கொடுத்தது மட்டுமல்லாமல், உடையின் பட்டனை இணைத்ததற்காகவும் நன்றி தெரிவித்தார். இருவரும் சேர்ந்து பணி செய்ததால் அந்த நிமிடம் மிகவும் மகிழ்ச்சியானதாக இருந்தது.\n"
   ]
  },
  {
   "cell_type": "code",
   "execution_count": 64,
   "metadata": {},
   "outputs": [],
   "source": [
    "from transformers import GPTNeoForCausalLM, AutoTokenizer, GPTNeoConfig\n",
    "\n",
    "checkpoint_path = \"./gptneo_tamil\"  # Path to your saved checkpoint\n",
    "config = GPTNeoConfig.from_pretrained(checkpoint_path)\n",
    "# Load model and tokenizer\n",
    "model = GPTNeoForCausalLM.from_pretrained(checkpoint_path, config=config)\n",
    "tokenizer = AutoTokenizer.from_pretrained(\"abhinand/tamil-llama-7b-instruct-v0.2\")\n"
   ]
  },
  {
   "cell_type": "code",
   "execution_count": 66,
   "metadata": {},
   "outputs": [
    {
     "name": "stderr",
     "output_type": "stream",
     "text": [
      "Setting `pad_token_id` to `eos_token_id`:50256 for open-end generation.\n"
     ]
    },
    {
     "name": "stdout",
     "output_type": "stream",
     "text": [
      "அதனால் 201 2 2 2 2 2 2 2 2 2 2 2 2 2 2 2 2 2 2 2 2 2 2 2 2 2 2 2 2 2 2 2 2 2 2 2 2 2 2 2 2 2 2 2 2 2 2 \n"
     ]
    }
   ],
   "source": [
    "input_text = \"அதனால்\"\n",
    "\n",
    "inputs = tokenizer(input_text, return_tensors=\"pt\")\n",
    "output = model.generate(**inputs, max_length=100, temperature=0.7, top_k=50, top_p=0.9)\n",
    "print(tokenizer.decode(output[0], skip_special_tokens=True))\n"
   ]
  },
  {
   "cell_type": "code",
   "execution_count": 50,
   "metadata": {},
   "outputs": [
    {
     "name": "stdout",
     "output_type": "stream",
     "text": [
      "[1, 33577, 32214, 41203, 32616, 29871, 2]\n",
      "அதனால் அவர் துணிகளில் \n"
     ]
    }
   ],
   "source": [
    "test = \"அதனால் அவர் துணிகளில் \"\n",
    "tokens = tokenizer.encode(test)\n",
    "print(tokens)  # Check if there are unexpected token values\n",
    "print(tokenizer.decode(tokens, skip_special_tokens=True)) "
   ]
  },
  {
   "cell_type": "code",
   "execution_count": 72,
   "metadata": {},
   "outputs": [
    {
     "data": {
      "application/vnd.jupyter.widget-view+json": {
       "model_id": "1600d027f64848fca7daaa0478e6db75",
       "version_major": 2,
       "version_minor": 0
      },
      "text/plain": [
       "Generating train split: 0 examples [00:00, ? examples/s]"
      ]
     },
     "metadata": {},
     "output_type": "display_data"
    },
    {
     "data": {
      "application/vnd.jupyter.widget-view+json": {
       "model_id": "a3e958a7be404f2f8efe1b8773fbdb9f",
       "version_major": 2,
       "version_minor": 0
      },
      "text/plain": [
       "Loading dataset shards:   0%|          | 0/86 [00:00<?, ?it/s]"
      ]
     },
     "metadata": {},
     "output_type": "display_data"
    },
    {
     "data": {
      "application/vnd.jupyter.widget-view+json": {
       "model_id": "3762b74c80ca46bc896b452ece626e1f",
       "version_major": 2,
       "version_minor": 0
      },
      "text/plain": [
       "Map:   0%|          | 0/4728460 [00:00<?, ? examples/s]"
      ]
     },
     "metadata": {},
     "output_type": "display_data"
    }
   ],
   "source": [
    "from datasets import load_dataset, DatasetDict\n",
    "dataset = load_dataset(\"uonlp/CulturaX\", \"ta\")\n",
    "def tokenize_function(examples):\n",
    "    return tokenizer(examples[\"text\"], truncation=True, padding=\"max_length\", max_length=512)\n",
    "\n",
    "tokenized_datasets = dataset.map(tokenize_function, batched=True)"
   ]
  },
  {
   "cell_type": "code",
   "execution_count": 76,
   "metadata": {},
   "outputs": [
    {
     "name": "stdout",
     "output_type": "stream",
     "text": [
      "{'text': \"பிரிட்ஜ் பராமரிப்பு! | சிறுவர் மலர் | Siruvarmalar | tamil weekly supplements\\n* பிரிட்ஜை அடுப்பு அறையில் வைக்க கூடாது. புகை பட்டு நிறம் போய்விடும்.\\n* பிரிட்ஜை அடிக்கடி திறக்க கூடாது; திறந்தால் உடனே மூடி விட வேண்டும்.\\n* பிரீசரில் உள்ள ஐஸ் தட்டுகள் எடுக்க வரவில்லை எனில் கத்தியை வைத்து குத்த கூடாது. அதற்கு பதில், பழைய காஸ்கட்டை போட்டு அதன்மேல் வைத்தாலோ அல்லது சிறிது கல் உப்பை தூவி வைத்து அதன் மேல் ஐஸ் தட்டை வைத்தாலோ சுலபமாக எடுக்க வரும்.\\n* பிரிட்ஜில் வைக்கும் பொருள்களின் மீது நீர்த்துளிகள் கண்டிப்பாக படிந்து இருக்க கூடாது. நன்கு துடைத்து வைக்க வேண்டும்.\\n* அதிகப்படியாக பொருள்களை அடைத்து வைக்க கூடாது. பெட்டிக்குள் வைக்கப்படும் ஒவ்வொரு பொருளுக்கும் காற்று செல்வதற்கு ஏற்ப சிறிது இடைவெளி விட்டு வைக்க வேண்டும்.\\n* பிரிட்ஜை இதமாக திறந்து மூட வேண்டும்.\\n* பிரிட்ஜ் முன் ரப்பர் உறையை விரித்து, அதன் மீது ஏறி நின்று, பிரிட்ஜை திறந்தால் ஷாக் அடிக்காது.\\n* பச்சை காய்கறிகளை, 'பாலிதீன்' கவர்களில் போட்டு வைக்கவும்.\\n* பிரிட்ஜில் வைக்கும் பாட்டில்களை, அடிக்கடி சுத்தம் செய்து வெயிலில் காய வைத்து உபயோகப்படுத்த வேண்டும்.\\n* வாழைப்பழத்தை எக்காரணம் கொண்டும் பிரிட்ஜில் வைக்க கூடாது.\\n* பச்சைமிளகாய் வைக்கும் போது, அதன் காம்பை எடுத்து விட்டு தான் வைக்க வேண்டும்.\\n* பிரிட்ஜில் வைக்கப்படும் எந்த உணவு வகையானாலும் மூடி வைக்கவும்.\\n* பிரிட்ஜிலிருந்து துர்நாற்றம் வீசாமல் இருக்க, அதனுள் எப்போதும் சிறிது புதினா இலையையோ, சாறு எடுத்த எலுமிச்சம் பழ மூடிகளையோ வைக்கலாம்.\\n* தயிரை கடைந்து சிறிது நேரம் பிரிட்ஜில் வைத்தால், எளிதாக வெண்ணெய் திரளும்.\\n* வெங்காயத்தை பிளாஸ்டிக் கவரில் போட்டு பிரிட்ஜில் இரண்டு மணி நேரம் வைத்து நறுக்கினால் கண் கலங்காது.\\n* உருளைக்கிழங்கு, வெங்காயம், பூண்டு முதலியவற்றை பிரிட்ஜில் வைக்க வேண்டாம்.\\n* பிரிட்ஜில் வைத்துள்ள காய்கறிகளை, இரண்டு மணி நேரத்திற்கு முன், எடுத்து வைத்து சமைத்தால் எரிபொருள் மிச்சமாகும்.\\n* முந்தைய நாளே காய்கறியை அரிந்து இறுக்கமாக பாலிதீன் கவரில் போட்டு பிரிட்ஜில் வைத்தால், வைட்டமின் சத்துக்கள் அப்படியே இருக்கும்.\", 'timestamp': '2019/12/09 19:10:45', 'url': 'https://www.dinamalar.com/supplementary_detail.asp?id=34539&ncat=3', 'source': 'mC4', 'input_ids': [2, 2, 2, 2, 2, 2, 2, 2, 2, 2, 2, 2, 2, 2, 2, 2, 2, 2, 2, 2, 2, 2, 2, 2, 2, 2, 2, 2, 2, 2, 2, 2, 2, 2, 2, 2, 2, 2, 2, 2, 2, 2, 2, 2, 2, 2, 2, 2, 2, 2, 2, 2, 2, 2, 2, 1, 32805, 32187, 32988, 36455, 29991, 891, 46052, 43786, 891, 6290, 29884, 1707, 5156, 279, 891, 260, 1344, 4723, 368, 1462, 944, 29879, 13, 29930, 32805, 32187, 43878, 42100, 32089, 43061, 33228, 33863, 29889, 36657, 35509, 38949, 34666, 34427, 29889, 13, 29930, 32805, 32187, 43878, 33747, 36821, 30781, 37161, 33863, 29936, 32647, 36705, 32004, 35171, 39972, 32973, 44266, 30380, 32498, 29889, 13, 29930, 44430, 31384, 32568, 32183, 48589, 32022, 36364, 32925, 35712, 44889, 47602, 31428, 33134, 44619, 33863, 29889, 32852, 33685, 29892, 35662, 32143, 33069, 32821, 35136, 32085, 36205, 35538, 32282, 33040, 35483, 32494, 35495, 32749, 32033, 32668, 32600, 32059, 33134, 32720, 33458, 48589, 32022, 32821, 32282, 33040, 35483, 45851, 32925, 32826, 29889, 13, 29930, 32805, 32187, 48620, 32027, 37496, 36328, 36162, 32675, 32156, 33329, 31715, 32182, 38248, 33935, 32065, 32219, 33863, 29889, 34693, 42270, 32047, 33228, 44266, 30380, 32498, 29889, 13, 29930, 32213, 32474, 46741, 42862, 48004, 33228, 33863, 29889, 40035, 34111, 46457, 33092, 32435, 32718, 36349, 42705, 32291, 35495, 40220, 33264, 33228, 44266, 30380, 32498, 29889, 13, 29930, 32805, 32187, 43878, 32118, 32117, 36556, 35411, 44266, 30380, 32498, 29889, 13, 29930, 32805, 32187, 32988, 33041, 32093, 34265, 32033, 34333, 32057, 34887, 29892, 32720, 32675, 41594, 36323, 29892, 32805, 32187, 43878, 32647, 36705, 32004, 32825, 33729, 33747, 47235, 30837, 29889, 13, 29930, 35949, 44645, 32260, 29892, 525, 30917, 33816, 30870, 34749, 29915, 32007, 34334, 35136, 39956, 29889, 13, 29930, 32805, 32187, 48620, 32027, 37496, 46364, 33539, 29892, 33747, 36821, 30781, 39937, 32398, 32129, 31481, 40878, 32856, 33134, 36277, 32463, 44266, 30380, 32498, 29889, 13, 29930, 41641, 40701, 32155, 32028, 33558, 32439, 45806, 32805, 32187, 48620, 32027, 33228, 33863, 29889, 13, 29930, 35949, 45801, 37496, 33137, 29892, 32720, 32143, 46019, 32860, 33264, 32565, 33228, 44266, 30380, 32498, 29889, 13, 29930, 32805, 32187, 48620, 32027, 46457, 32507, 33222, 38158, 31015, 45575, 39972, 39956, 29889, 13, 29930, 32805, 32187, 48620, 32479, 32204, 32016, 32290, 35734, 37266, 32578, 32219, 29892, 41027, 40623, 34606, 35495, 34932, 32325, 39633, 31481, 35448, 29892, 43810, 34229, 42239, 32157, 34399, 32949, 39972, 32297, 35448, 32282, 45746, 29889, 13, 29930, 32586, 42425, 33219, 32065, 35495, 33986, 32805, 32187, 48620, 32027, 32282, 33359, 29892, 37993, 44465, 33493, 32427, 32762, 29889, 13, 29930, 32129, 33962, 31481, 32155, 42572, 32007, 39929, 35136, 32805, 32187, 48620, 32027, 32702, 33942, 33986, 33134, 44308, 32162, 36718, 32539, 33962, 32019, 29889, 13, 29930, 48296, 29892, 32129, 33962, 33001, 29892, 38354, 43858, 33974, 32805, 32187, 48620, 32027, 33228, 33886, 29889, 13, 29930, 32805, 32187, 48620, 32027, 41859, 44645, 32260, 29892, 32702, 33942, 47415, 33041, 29892, 32860, 33134, 45269, 33359, 42188, 41937, 33334, 29889, 13, 29930, 36029, 34999, 48605, 44645, 41330, 35770, 32065, 33317, 40887, 34920, 30870, 34749, 32007, 39929, 35136, 32805, 32187, 48620, 32027, 32282, 33359, 29892, 38935, 36325, 32660, 35737, 32595, 29889, 2], 'attention_mask': [0, 0, 0, 0, 0, 0, 0, 0, 0, 0, 0, 0, 0, 0, 0, 0, 0, 0, 0, 0, 0, 0, 0, 0, 0, 0, 0, 0, 0, 0, 0, 0, 0, 0, 0, 0, 0, 0, 0, 0, 0, 0, 0, 0, 0, 0, 0, 0, 0, 0, 0, 0, 0, 0, 0, 1, 1, 1, 1, 1, 1, 1, 1, 1, 1, 1, 1, 1, 1, 1, 1, 1, 1, 1, 1, 1, 1, 1, 1, 1, 1, 1, 1, 1, 1, 1, 1, 1, 1, 1, 1, 1, 1, 1, 1, 1, 1, 1, 1, 1, 1, 1, 1, 1, 1, 1, 1, 1, 1, 1, 1, 1, 1, 1, 1, 1, 1, 1, 1, 1, 1, 1, 1, 1, 1, 1, 1, 1, 1, 1, 1, 1, 1, 1, 1, 1, 1, 1, 1, 1, 1, 1, 1, 1, 1, 1, 1, 1, 1, 1, 1, 1, 1, 1, 1, 1, 1, 1, 1, 1, 1, 1, 1, 1, 1, 1, 1, 1, 1, 1, 1, 1, 1, 1, 1, 1, 1, 1, 1, 1, 1, 1, 1, 1, 1, 1, 1, 1, 1, 1, 1, 1, 1, 1, 1, 1, 1, 1, 1, 1, 1, 1, 1, 1, 1, 1, 1, 1, 1, 1, 1, 1, 1, 1, 1, 1, 1, 1, 1, 1, 1, 1, 1, 1, 1, 1, 1, 1, 1, 1, 1, 1, 1, 1, 1, 1, 1, 1, 1, 1, 1, 1, 1, 1, 1, 1, 1, 1, 1, 1, 1, 1, 1, 1, 1, 1, 1, 1, 1, 1, 1, 1, 1, 1, 1, 1, 1, 1, 1, 1, 1, 1, 1, 1, 1, 1, 1, 1, 1, 1, 1, 1, 1, 1, 1, 1, 1, 1, 1, 1, 1, 1, 1, 1, 1, 1, 1, 1, 1, 1, 1, 1, 1, 1, 1, 1, 1, 1, 1, 1, 1, 1, 1, 1, 1, 1, 1, 1, 1, 1, 1, 1, 1, 1, 1, 1, 1, 1, 1, 1, 1, 1, 1, 1, 1, 1, 1, 1, 1, 1, 1, 1, 1, 1, 1, 1, 1, 1, 1, 1, 1, 1, 1, 1, 1, 1, 1, 1, 1, 1, 1, 1, 1, 1, 1, 1, 1, 1, 1, 1, 1, 1, 1, 1, 1, 1, 1, 1, 1, 1, 1, 1, 1, 1, 1, 1, 1, 1, 1, 1, 1, 1, 1, 1, 1, 1, 1, 1, 1, 1, 1, 1, 1, 1, 1, 1, 1, 1, 1, 1, 1, 1, 1, 1, 1, 1, 1, 1, 1, 1, 1, 1, 1, 1, 1, 1, 1, 1, 1, 1, 1, 1, 1, 1, 1, 1, 1, 1, 1, 1, 1, 1, 1, 1, 1, 1, 1, 1, 1, 1, 1, 1, 1, 1, 1, 1, 1, 1, 1, 1, 1, 1, 1, 1, 1, 1, 1, 1, 1, 1, 1, 1, 1, 1, 1, 1, 1, 1, 1, 1, 1, 1, 1, 1, 1, 1, 1, 1, 1, 1, 1, 1, 1, 1, 1, 1, 1, 1, 1, 1, 1, 1, 1, 1, 1, 1, 1, 1, 1, 1, 1, 1]}\n"
     ]
    }
   ],
   "source": [
    "print(tokenized_datasets[\"train\"][1])"
   ]
  },
  {
   "cell_type": "code",
   "execution_count": 85,
   "metadata": {},
   "outputs": [
    {
     "name": "stdout",
     "output_type": "stream",
     "text": [
      "ப ி\n"
     ]
    }
   ],
   "source": [
    "print(\"\\u0baa \\u0bbf\")"
   ]
  },
  {
   "cell_type": "code",
   "execution_count": 90,
   "metadata": {},
   "outputs": [
    {
     "name": "stdout",
     "output_type": "stream",
     "text": [
      "ிரிட்ஜ் ராமரிப்பு! | சிறுவர் மலர் | Siruvarmalar | tamil weekly supplements* ப ிரிட்ஜை அடுப்பு அறையில் வைக்க கூடாது. புகை பட்டு நிறம் போய்விடும்.\n",
      "* பிரிட்ஜை அடிக்கடி திறக்க கூடாது; திறந்தால் உடனே மூடி விட வேண்டும்.\n",
      "* பிரீசரில் உள்ள ஐஸ் தட்டுகள் எடுக்க வரவில்லை எனில் கத்தியை வைத்து குத்த கூடாது. அதற்கு பதில், பழைய காஸ்கட்டை போட்டு அதன்மேல் வைத்தாலோ அல்லது சிறிது கல் உப்பை தூவி வைத்து அதன் மேல் ஐஸ் தட்டை வைத்தாலோ சுலபமாக எடுக்க வரும்.\n",
      "* பிரிட்ஜில் வைக்கும் பொருள்களின் மீது நீர்த்துளிகள் கண்டிப்பாக படிந்து இருக்க கூடாது. நன்கு துடைத்து வைக்க வேண்டும்.\n",
      "* அதிகப்படியாக பொருள்களை அடைத்து வைக்க கூடாது. பெட்டிக்குள் வைக்கப்படும் ஒவ்வொரு பொருளுக்கும் காற்று செல்வதற்கு ஏற்ப சிறிது இடைவெளி விட்டு வைக்க வேண்டும்.\n",
      "* பிரிட்ஜை இதமாக திறந்து மூட வேண்டும்.\n",
      "* பிரிட்ஜ் முன் ரப்பர் உறையை விரித்து, அதன் மீது ஏறி நின்று, பிரிட்ஜை திறந்தால் ஷாக் அடிக்காது.\n",
      "* பச்சை காய்கறிகளை, 'பாலிதீன்' கவர்களில் போட்டு வைக்கவும்.\n",
      "* பிரிட்ஜில் வைக்கும் பாட்டில்களை, அடிக்கடி சுத்தம் செய்து வெயிலில் காய வைத்து உபயோகப்படுத்த வேண்டும்.\n",
      "* வாழைப்பழத்தை எக்காரணம் கொண்டும் பிரிட்ஜில் வைக்க கூடாது.\n",
      "* பச்சைமிளகாய் வைக்கும் போது, அதன் காம்பை எடுத்து விட்டு தான் வைக்க வேண்டும்.\n",
      "* பிரிட்ஜில் வைக்கப்படும் எந்த உணவு வகையானாலும் மூடி வைக்கவும்.\n",
      "* பிரிட்ஜிலிருந்து துர்நாற்றம் வீசாமல் இருக்க, அதனுள் எப்போதும் சிறிது புதினா இலையையோ, சாறு எடுத்த எலுமிச்சம் பழ மூடிகளையோ வைக்கலாம்.\n",
      "* தயிரை கடைந்து சிறிது நேரம் பிரிட்ஜில் வைத்தால், எளிதாக வெண்ணெய் திரளும்.\n",
      "* வெங்காயத்தை பிளாஸ்டிக் கவரில் போட்டு பிரிட்ஜில் இரண்டு மணி நேரம் வைத்து நறுக்கினால் கண் கலங்காது.\n",
      "* உருளைக்கிழங்கு, வெங்காயம், பூண்டு முதலியவற்றை பிரிட்ஜில் வைக்க வேண்டாம்.\n",
      "* பிரிட்ஜில் வைத்துள்ள காய்கறிகளை, இரண்டு மணி நேரத்திற்கு முன், எடுத்து வைத்து சமைத்தால் எரிபொருள் மிச்சமாகும்.\n",
      "* முந்தைய நாளே காய்கறியை அரிந்து இறுக்கமாக பாலிதீன் கவரில் போட்டு பிரிட்ஜில் வைத்தால், வைட்டமின் சத்துக்கள் அப்படியே இருக்கும்.\n"
     ]
    }
   ],
   "source": [
    "print(\"\\u0bbf\\u0bb0\\u0bbf\\u0b9f\\u0bcd\\u0b9c\\u0bcd \\u0bb0\\u0bbe\\u0bae\\u0bb0\\u0bbf\\u0baa\\u0bcd\\u0baa\\u0bc1! | \\u0b9a\\u0bbf\\u0bb1\\u0bc1\\u0bb5\\u0bb0\\u0bcd \\u0bae\\u0bb2\\u0bb0\\u0bcd | Siruvarmalar | tamil weekly supplements* \\u0baa \\u0bbf\\u0bb0\\u0bbf\\u0b9f\\u0bcd\\u0b9c\\u0bc8 \\u0b85\\u0b9f\\u0bc1\\u0baa\\u0bcd\\u0baa\\u0bc1 \\u0b85\\u0bb1\\u0bc8\\u0baf\\u0bbf\\u0bb2\\u0bcd \\u0bb5\\u0bc8\\u0b95\\u0bcd\\u0b95 \\u0b95\\u0bc2\\u0b9f\\u0bbe\\u0ba4\\u0bc1. \\u0baa\\u0bc1\\u0b95\\u0bc8 \\u0baa\\u0b9f\\u0bcd\\u0b9f\\u0bc1 \\u0ba8\\u0bbf\\u0bb1\\u0bae\\u0bcd \\u0baa\\u0bcb\\u0baf\\u0bcd\\u0bb5\\u0bbf\\u0b9f\\u0bc1\\u0bae\\u0bcd.\\n* \\u0baa\\u0bbf\\u0bb0\\u0bbf\\u0b9f\\u0bcd\\u0b9c\\u0bc8 \\u0b85\\u0b9f\\u0bbf\\u0b95\\u0bcd\\u0b95\\u0b9f\\u0bbf \\u0ba4\\u0bbf\\u0bb1\\u0b95\\u0bcd\\u0b95 \\u0b95\\u0bc2\\u0b9f\\u0bbe\\u0ba4\\u0bc1; \\u0ba4\\u0bbf\\u0bb1\\u0ba8\\u0bcd\\u0ba4\\u0bbe\\u0bb2\\u0bcd \\u0b89\\u0b9f\\u0ba9\\u0bc7 \\u0bae\\u0bc2\\u0b9f\\u0bbf \\u0bb5\\u0bbf\\u0b9f \\u0bb5\\u0bc7\\u0ba3\\u0bcd\\u0b9f\\u0bc1\\u0bae\\u0bcd.\\n* \\u0baa\\u0bbf\\u0bb0\\u0bc0\\u0b9a\\u0bb0\\u0bbf\\u0bb2\\u0bcd \\u0b89\\u0bb3\\u0bcd\\u0bb3 \\u0b90\\u0bb8\\u0bcd \\u0ba4\\u0b9f\\u0bcd\\u0b9f\\u0bc1\\u0b95\\u0bb3\\u0bcd \\u0b8e\\u0b9f\\u0bc1\\u0b95\\u0bcd\\u0b95 \\u0bb5\\u0bb0\\u0bb5\\u0bbf\\u0bb2\\u0bcd\\u0bb2\\u0bc8 \\u0b8e\\u0ba9\\u0bbf\\u0bb2\\u0bcd \\u0b95\\u0ba4\\u0bcd\\u0ba4\\u0bbf\\u0baf\\u0bc8 \\u0bb5\\u0bc8\\u0ba4\\u0bcd\\u0ba4\\u0bc1 \\u0b95\\u0bc1\\u0ba4\\u0bcd\\u0ba4 \\u0b95\\u0bc2\\u0b9f\\u0bbe\\u0ba4\\u0bc1. \\u0b85\\u0ba4\\u0bb1\\u0bcd\\u0b95\\u0bc1 \\u0baa\\u0ba4\\u0bbf\\u0bb2\\u0bcd, \\u0baa\\u0bb4\\u0bc8\\u0baf \\u0b95\\u0bbe\\u0bb8\\u0bcd\\u0b95\\u0b9f\\u0bcd\\u0b9f\\u0bc8 \\u0baa\\u0bcb\\u0b9f\\u0bcd\\u0b9f\\u0bc1 \\u0b85\\u0ba4\\u0ba9\\u0bcd\\u0bae\\u0bc7\\u0bb2\\u0bcd \\u0bb5\\u0bc8\\u0ba4\\u0bcd\\u0ba4\\u0bbe\\u0bb2\\u0bcb \\u0b85\\u0bb2\\u0bcd\\u0bb2\\u0ba4\\u0bc1 \\u0b9a\\u0bbf\\u0bb1\\u0bbf\\u0ba4\\u0bc1 \\u0b95\\u0bb2\\u0bcd \\u0b89\\u0baa\\u0bcd\\u0baa\\u0bc8 \\u0ba4\\u0bc2\\u0bb5\\u0bbf \\u0bb5\\u0bc8\\u0ba4\\u0bcd\\u0ba4\\u0bc1 \\u0b85\\u0ba4\\u0ba9\\u0bcd \\u0bae\\u0bc7\\u0bb2\\u0bcd \\u0b90\\u0bb8\\u0bcd \\u0ba4\\u0b9f\\u0bcd\\u0b9f\\u0bc8 \\u0bb5\\u0bc8\\u0ba4\\u0bcd\\u0ba4\\u0bbe\\u0bb2\\u0bcb \\u0b9a\\u0bc1\\u0bb2\\u0baa\\u0bae\\u0bbe\\u0b95 \\u0b8e\\u0b9f\\u0bc1\\u0b95\\u0bcd\\u0b95 \\u0bb5\\u0bb0\\u0bc1\\u0bae\\u0bcd.\\n* \\u0baa\\u0bbf\\u0bb0\\u0bbf\\u0b9f\\u0bcd\\u0b9c\\u0bbf\\u0bb2\\u0bcd \\u0bb5\\u0bc8\\u0b95\\u0bcd\\u0b95\\u0bc1\\u0bae\\u0bcd \\u0baa\\u0bca\\u0bb0\\u0bc1\\u0bb3\\u0bcd\\u0b95\\u0bb3\\u0bbf\\u0ba9\\u0bcd \\u0bae\\u0bc0\\u0ba4\\u0bc1 \\u0ba8\\u0bc0\\u0bb0\\u0bcd\\u0ba4\\u0bcd\\u0ba4\\u0bc1\\u0bb3\\u0bbf\\u0b95\\u0bb3\\u0bcd \\u0b95\\u0ba3\\u0bcd\\u0b9f\\u0bbf\\u0baa\\u0bcd\\u0baa\\u0bbe\\u0b95 \\u0baa\\u0b9f\\u0bbf\\u0ba8\\u0bcd\\u0ba4\\u0bc1 \\u0b87\\u0bb0\\u0bc1\\u0b95\\u0bcd\\u0b95 \\u0b95\\u0bc2\\u0b9f\\u0bbe\\u0ba4\\u0bc1. \\u0ba8\\u0ba9\\u0bcd\\u0b95\\u0bc1 \\u0ba4\\u0bc1\\u0b9f\\u0bc8\\u0ba4\\u0bcd\\u0ba4\\u0bc1 \\u0bb5\\u0bc8\\u0b95\\u0bcd\\u0b95 \\u0bb5\\u0bc7\\u0ba3\\u0bcd\\u0b9f\\u0bc1\\u0bae\\u0bcd.\\n* \\u0b85\\u0ba4\\u0bbf\\u0b95\\u0baa\\u0bcd\\u0baa\\u0b9f\\u0bbf\\u0baf\\u0bbe\\u0b95 \\u0baa\\u0bca\\u0bb0\\u0bc1\\u0bb3\\u0bcd\\u0b95\\u0bb3\\u0bc8 \\u0b85\\u0b9f\\u0bc8\\u0ba4\\u0bcd\\u0ba4\\u0bc1 \\u0bb5\\u0bc8\\u0b95\\u0bcd\\u0b95 \\u0b95\\u0bc2\\u0b9f\\u0bbe\\u0ba4\\u0bc1. \\u0baa\\u0bc6\\u0b9f\\u0bcd\\u0b9f\\u0bbf\\u0b95\\u0bcd\\u0b95\\u0bc1\\u0bb3\\u0bcd \\u0bb5\\u0bc8\\u0b95\\u0bcd\\u0b95\\u0baa\\u0bcd\\u0baa\\u0b9f\\u0bc1\\u0bae\\u0bcd \\u0b92\\u0bb5\\u0bcd\\u0bb5\\u0bca\\u0bb0\\u0bc1 \\u0baa\\u0bca\\u0bb0\\u0bc1\\u0bb3\\u0bc1\\u0b95\\u0bcd\\u0b95\\u0bc1\\u0bae\\u0bcd \\u0b95\\u0bbe\\u0bb1\\u0bcd\\u0bb1\\u0bc1 \\u0b9a\\u0bc6\\u0bb2\\u0bcd\\u0bb5\\u0ba4\\u0bb1\\u0bcd\\u0b95\\u0bc1 \\u0b8f\\u0bb1\\u0bcd\\u0baa \\u0b9a\\u0bbf\\u0bb1\\u0bbf\\u0ba4\\u0bc1 \\u0b87\\u0b9f\\u0bc8\\u0bb5\\u0bc6\\u0bb3\\u0bbf \\u0bb5\\u0bbf\\u0b9f\\u0bcd\\u0b9f\\u0bc1 \\u0bb5\\u0bc8\\u0b95\\u0bcd\\u0b95 \\u0bb5\\u0bc7\\u0ba3\\u0bcd\\u0b9f\\u0bc1\\u0bae\\u0bcd.\\n* \\u0baa\\u0bbf\\u0bb0\\u0bbf\\u0b9f\\u0bcd\\u0b9c\\u0bc8 \\u0b87\\u0ba4\\u0bae\\u0bbe\\u0b95 \\u0ba4\\u0bbf\\u0bb1\\u0ba8\\u0bcd\\u0ba4\\u0bc1 \\u0bae\\u0bc2\\u0b9f \\u0bb5\\u0bc7\\u0ba3\\u0bcd\\u0b9f\\u0bc1\\u0bae\\u0bcd.\\n* \\u0baa\\u0bbf\\u0bb0\\u0bbf\\u0b9f\\u0bcd\\u0b9c\\u0bcd \\u0bae\\u0bc1\\u0ba9\\u0bcd \\u0bb0\\u0baa\\u0bcd\\u0baa\\u0bb0\\u0bcd \\u0b89\\u0bb1\\u0bc8\\u0baf\\u0bc8 \\u0bb5\\u0bbf\\u0bb0\\u0bbf\\u0ba4\\u0bcd\\u0ba4\\u0bc1, \\u0b85\\u0ba4\\u0ba9\\u0bcd \\u0bae\\u0bc0\\u0ba4\\u0bc1 \\u0b8f\\u0bb1\\u0bbf \\u0ba8\\u0bbf\\u0ba9\\u0bcd\\u0bb1\\u0bc1, \\u0baa\\u0bbf\\u0bb0\\u0bbf\\u0b9f\\u0bcd\\u0b9c\\u0bc8 \\u0ba4\\u0bbf\\u0bb1\\u0ba8\\u0bcd\\u0ba4\\u0bbe\\u0bb2\\u0bcd \\u0bb7\\u0bbe\\u0b95\\u0bcd \\u0b85\\u0b9f\\u0bbf\\u0b95\\u0bcd\\u0b95\\u0bbe\\u0ba4\\u0bc1.\\n* \\u0baa\\u0b9a\\u0bcd\\u0b9a\\u0bc8 \\u0b95\\u0bbe\\u0baf\\u0bcd\\u0b95\\u0bb1\\u0bbf\\u0b95\\u0bb3\\u0bc8, '\\u0baa\\u0bbe\\u0bb2\\u0bbf\\u0ba4\\u0bc0\\u0ba9\\u0bcd' \\u0b95\\u0bb5\\u0bb0\\u0bcd\\u0b95\\u0bb3\\u0bbf\\u0bb2\\u0bcd \\u0baa\\u0bcb\\u0b9f\\u0bcd\\u0b9f\\u0bc1 \\u0bb5\\u0bc8\\u0b95\\u0bcd\\u0b95\\u0bb5\\u0bc1\\u0bae\\u0bcd.\\n* \\u0baa\\u0bbf\\u0bb0\\u0bbf\\u0b9f\\u0bcd\\u0b9c\\u0bbf\\u0bb2\\u0bcd \\u0bb5\\u0bc8\\u0b95\\u0bcd\\u0b95\\u0bc1\\u0bae\\u0bcd \\u0baa\\u0bbe\\u0b9f\\u0bcd\\u0b9f\\u0bbf\\u0bb2\\u0bcd\\u0b95\\u0bb3\\u0bc8, \\u0b85\\u0b9f\\u0bbf\\u0b95\\u0bcd\\u0b95\\u0b9f\\u0bbf \\u0b9a\\u0bc1\\u0ba4\\u0bcd\\u0ba4\\u0bae\\u0bcd \\u0b9a\\u0bc6\\u0baf\\u0bcd\\u0ba4\\u0bc1 \\u0bb5\\u0bc6\\u0baf\\u0bbf\\u0bb2\\u0bbf\\u0bb2\\u0bcd \\u0b95\\u0bbe\\u0baf \\u0bb5\\u0bc8\\u0ba4\\u0bcd\\u0ba4\\u0bc1 \\u0b89\\u0baa\\u0baf\\u0bcb\\u0b95\\u0baa\\u0bcd\\u0baa\\u0b9f\\u0bc1\\u0ba4\\u0bcd\\u0ba4 \\u0bb5\\u0bc7\\u0ba3\\u0bcd\\u0b9f\\u0bc1\\u0bae\\u0bcd.\\n* \\u0bb5\\u0bbe\\u0bb4\\u0bc8\\u0baa\\u0bcd\\u0baa\\u0bb4\\u0ba4\\u0bcd\\u0ba4\\u0bc8 \\u0b8e\\u0b95\\u0bcd\\u0b95\\u0bbe\\u0bb0\\u0ba3\\u0bae\\u0bcd \\u0b95\\u0bca\\u0ba3\\u0bcd\\u0b9f\\u0bc1\\u0bae\\u0bcd \\u0baa\\u0bbf\\u0bb0\\u0bbf\\u0b9f\\u0bcd\\u0b9c\\u0bbf\\u0bb2\\u0bcd \\u0bb5\\u0bc8\\u0b95\\u0bcd\\u0b95 \\u0b95\\u0bc2\\u0b9f\\u0bbe\\u0ba4\\u0bc1.\\n* \\u0baa\\u0b9a\\u0bcd\\u0b9a\\u0bc8\\u0bae\\u0bbf\\u0bb3\\u0b95\\u0bbe\\u0baf\\u0bcd \\u0bb5\\u0bc8\\u0b95\\u0bcd\\u0b95\\u0bc1\\u0bae\\u0bcd \\u0baa\\u0bcb\\u0ba4\\u0bc1, \\u0b85\\u0ba4\\u0ba9\\u0bcd \\u0b95\\u0bbe\\u0bae\\u0bcd\\u0baa\\u0bc8 \\u0b8e\\u0b9f\\u0bc1\\u0ba4\\u0bcd\\u0ba4\\u0bc1 \\u0bb5\\u0bbf\\u0b9f\\u0bcd\\u0b9f\\u0bc1 \\u0ba4\\u0bbe\\u0ba9\\u0bcd \\u0bb5\\u0bc8\\u0b95\\u0bcd\\u0b95 \\u0bb5\\u0bc7\\u0ba3\\u0bcd\\u0b9f\\u0bc1\\u0bae\\u0bcd.\\n* \\u0baa\\u0bbf\\u0bb0\\u0bbf\\u0b9f\\u0bcd\\u0b9c\\u0bbf\\u0bb2\\u0bcd \\u0bb5\\u0bc8\\u0b95\\u0bcd\\u0b95\\u0baa\\u0bcd\\u0baa\\u0b9f\\u0bc1\\u0bae\\u0bcd \\u0b8e\\u0ba8\\u0bcd\\u0ba4 \\u0b89\\u0ba3\\u0bb5\\u0bc1 \\u0bb5\\u0b95\\u0bc8\\u0baf\\u0bbe\\u0ba9\\u0bbe\\u0bb2\\u0bc1\\u0bae\\u0bcd \\u0bae\\u0bc2\\u0b9f\\u0bbf \\u0bb5\\u0bc8\\u0b95\\u0bcd\\u0b95\\u0bb5\\u0bc1\\u0bae\\u0bcd.\\n* \\u0baa\\u0bbf\\u0bb0\\u0bbf\\u0b9f\\u0bcd\\u0b9c\\u0bbf\\u0bb2\\u0bbf\\u0bb0\\u0bc1\\u0ba8\\u0bcd\\u0ba4\\u0bc1 \\u0ba4\\u0bc1\\u0bb0\\u0bcd\\u0ba8\\u0bbe\\u0bb1\\u0bcd\\u0bb1\\u0bae\\u0bcd \\u0bb5\\u0bc0\\u0b9a\\u0bbe\\u0bae\\u0bb2\\u0bcd \\u0b87\\u0bb0\\u0bc1\\u0b95\\u0bcd\\u0b95, \\u0b85\\u0ba4\\u0ba9\\u0bc1\\u0bb3\\u0bcd \\u0b8e\\u0baa\\u0bcd\\u0baa\\u0bcb\\u0ba4\\u0bc1\\u0bae\\u0bcd \\u0b9a\\u0bbf\\u0bb1\\u0bbf\\u0ba4\\u0bc1 \\u0baa\\u0bc1\\u0ba4\\u0bbf\\u0ba9\\u0bbe \\u0b87\\u0bb2\\u0bc8\\u0baf\\u0bc8\\u0baf\\u0bcb, \\u0b9a\\u0bbe\\u0bb1\\u0bc1 \\u0b8e\\u0b9f\\u0bc1\\u0ba4\\u0bcd\\u0ba4 \\u0b8e\\u0bb2\\u0bc1\\u0bae\\u0bbf\\u0b9a\\u0bcd\\u0b9a\\u0bae\\u0bcd \\u0baa\\u0bb4 \\u0bae\\u0bc2\\u0b9f\\u0bbf\\u0b95\\u0bb3\\u0bc8\\u0baf\\u0bcb \\u0bb5\\u0bc8\\u0b95\\u0bcd\\u0b95\\u0bb2\\u0bbe\\u0bae\\u0bcd.\\n* \\u0ba4\\u0baf\\u0bbf\\u0bb0\\u0bc8 \\u0b95\\u0b9f\\u0bc8\\u0ba8\\u0bcd\\u0ba4\\u0bc1 \\u0b9a\\u0bbf\\u0bb1\\u0bbf\\u0ba4\\u0bc1 \\u0ba8\\u0bc7\\u0bb0\\u0bae\\u0bcd \\u0baa\\u0bbf\\u0bb0\\u0bbf\\u0b9f\\u0bcd\\u0b9c\\u0bbf\\u0bb2\\u0bcd \\u0bb5\\u0bc8\\u0ba4\\u0bcd\\u0ba4\\u0bbe\\u0bb2\\u0bcd, \\u0b8e\\u0bb3\\u0bbf\\u0ba4\\u0bbe\\u0b95 \\u0bb5\\u0bc6\\u0ba3\\u0bcd\\u0ba3\\u0bc6\\u0baf\\u0bcd \\u0ba4\\u0bbf\\u0bb0\\u0bb3\\u0bc1\\u0bae\\u0bcd.\\n* \\u0bb5\\u0bc6\\u0b99\\u0bcd\\u0b95\\u0bbe\\u0baf\\u0ba4\\u0bcd\\u0ba4\\u0bc8 \\u0baa\\u0bbf\\u0bb3\\u0bbe\\u0bb8\\u0bcd\\u0b9f\\u0bbf\\u0b95\\u0bcd \\u0b95\\u0bb5\\u0bb0\\u0bbf\\u0bb2\\u0bcd \\u0baa\\u0bcb\\u0b9f\\u0bcd\\u0b9f\\u0bc1 \\u0baa\\u0bbf\\u0bb0\\u0bbf\\u0b9f\\u0bcd\\u0b9c\\u0bbf\\u0bb2\\u0bcd \\u0b87\\u0bb0\\u0ba3\\u0bcd\\u0b9f\\u0bc1 \\u0bae\\u0ba3\\u0bbf \\u0ba8\\u0bc7\\u0bb0\\u0bae\\u0bcd \\u0bb5\\u0bc8\\u0ba4\\u0bcd\\u0ba4\\u0bc1 \\u0ba8\\u0bb1\\u0bc1\\u0b95\\u0bcd\\u0b95\\u0bbf\\u0ba9\\u0bbe\\u0bb2\\u0bcd \\u0b95\\u0ba3\\u0bcd \\u0b95\\u0bb2\\u0b99\\u0bcd\\u0b95\\u0bbe\\u0ba4\\u0bc1.\\n* \\u0b89\\u0bb0\\u0bc1\\u0bb3\\u0bc8\\u0b95\\u0bcd\\u0b95\\u0bbf\\u0bb4\\u0b99\\u0bcd\\u0b95\\u0bc1, \\u0bb5\\u0bc6\\u0b99\\u0bcd\\u0b95\\u0bbe\\u0baf\\u0bae\\u0bcd, \\u0baa\\u0bc2\\u0ba3\\u0bcd\\u0b9f\\u0bc1 \\u0bae\\u0bc1\\u0ba4\\u0bb2\\u0bbf\\u0baf\\u0bb5\\u0bb1\\u0bcd\\u0bb1\\u0bc8 \\u0baa\\u0bbf\\u0bb0\\u0bbf\\u0b9f\\u0bcd\\u0b9c\\u0bbf\\u0bb2\\u0bcd \\u0bb5\\u0bc8\\u0b95\\u0bcd\\u0b95 \\u0bb5\\u0bc7\\u0ba3\\u0bcd\\u0b9f\\u0bbe\\u0bae\\u0bcd.\\n* \\u0baa\\u0bbf\\u0bb0\\u0bbf\\u0b9f\\u0bcd\\u0b9c\\u0bbf\\u0bb2\\u0bcd \\u0bb5\\u0bc8\\u0ba4\\u0bcd\\u0ba4\\u0bc1\\u0bb3\\u0bcd\\u0bb3 \\u0b95\\u0bbe\\u0baf\\u0bcd\\u0b95\\u0bb1\\u0bbf\\u0b95\\u0bb3\\u0bc8, \\u0b87\\u0bb0\\u0ba3\\u0bcd\\u0b9f\\u0bc1 \\u0bae\\u0ba3\\u0bbf \\u0ba8\\u0bc7\\u0bb0\\u0ba4\\u0bcd\\u0ba4\\u0bbf\\u0bb1\\u0bcd\\u0b95\\u0bc1 \\u0bae\\u0bc1\\u0ba9\\u0bcd, \\u0b8e\\u0b9f\\u0bc1\\u0ba4\\u0bcd\\u0ba4\\u0bc1 \\u0bb5\\u0bc8\\u0ba4\\u0bcd\\u0ba4\\u0bc1 \\u0b9a\\u0bae\\u0bc8\\u0ba4\\u0bcd\\u0ba4\\u0bbe\\u0bb2\\u0bcd \\u0b8e\\u0bb0\\u0bbf\\u0baa\\u0bca\\u0bb0\\u0bc1\\u0bb3\\u0bcd \\u0bae\\u0bbf\\u0b9a\\u0bcd\\u0b9a\\u0bae\\u0bbe\\u0b95\\u0bc1\\u0bae\\u0bcd.\\n* \\u0bae\\u0bc1\\u0ba8\\u0bcd\\u0ba4\\u0bc8\\u0baf \\u0ba8\\u0bbe\\u0bb3\\u0bc7 \\u0b95\\u0bbe\\u0baf\\u0bcd\\u0b95\\u0bb1\\u0bbf\\u0baf\\u0bc8 \\u0b85\\u0bb0\\u0bbf\\u0ba8\\u0bcd\\u0ba4\\u0bc1 \\u0b87\\u0bb1\\u0bc1\\u0b95\\u0bcd\\u0b95\\u0bae\\u0bbe\\u0b95 \\u0baa\\u0bbe\\u0bb2\\u0bbf\\u0ba4\\u0bc0\\u0ba9\\u0bcd \\u0b95\\u0bb5\\u0bb0\\u0bbf\\u0bb2\\u0bcd \\u0baa\\u0bcb\\u0b9f\\u0bcd\\u0b9f\\u0bc1 \\u0baa\\u0bbf\\u0bb0\\u0bbf\\u0b9f\\u0bcd\\u0b9c\\u0bbf\\u0bb2\\u0bcd \\u0bb5\\u0bc8\\u0ba4\\u0bcd\\u0ba4\\u0bbe\\u0bb2\\u0bcd, \\u0bb5\\u0bc8\\u0b9f\\u0bcd\\u0b9f\\u0bae\\u0bbf\\u0ba9\\u0bcd \\u0b9a\\u0ba4\\u0bcd\\u0ba4\\u0bc1\\u0b95\\u0bcd\\u0b95\\u0bb3\\u0bcd \\u0b85\\u0baa\\u0bcd\\u0baa\\u0b9f\\u0bbf\\u0baf\\u0bc7 \\u0b87\\u0bb0\\u0bc1\\u0b95\\u0bcd\\u0b95\\u0bc1\\u0bae\\u0bcd.\")"
   ]
  },
  {
   "cell_type": "code",
   "execution_count": 56,
   "metadata": {},
   "outputs": [
    {
     "name": "stdout",
     "output_type": "stream",
     "text": [
      "EOS Token ID: 2\n",
      "EOS Token: </s>\n",
      "{'bos_token': '<s>', 'eos_token': '</s>', 'unk_token': '<unk>', 'pad_token': '</s>'}\n"
     ]
    }
   ],
   "source": [
    "eos_token_id = tokenizer.eos_token_id  # Should be 50256\n",
    "eos_token = tokenizer.decode([eos_token_id])\n",
    "\n",
    "print(f\"EOS Token ID: {eos_token_id}\")\n",
    "print(f\"EOS Token: {eos_token}\")\n",
    "print(tokenizer.special_tokens_map)\n"
   ]
  },
  {
   "cell_type": "code",
   "execution_count": 3,
   "metadata": {},
   "outputs": [
    {
     "data": {
      "text/plain": [
       "49992"
      ]
     },
     "execution_count": 3,
     "metadata": {},
     "output_type": "execute_result"
    }
   ],
   "source": [
    "tokenizer = AutoTokenizer.from_pretrained(\"abhinand/tamil-llama-7b-instruct-v0.2\")\n",
    "tokenizer.vocab_size"
   ]
  },
  {
   "cell_type": "code",
   "execution_count": 24,
   "metadata": {},
   "outputs": [
    {
     "data": {
      "application/vnd.jupyter.widget-view+json": {
       "model_id": "c54a9e97faab4cb7b5ea680788c1a6f6",
       "version_major": 2,
       "version_minor": 0
      },
      "text/plain": [
       "tokenizer_config.json:   0%|          | 0.00/727 [00:00<?, ?B/s]"
      ]
     },
     "metadata": {},
     "output_type": "display_data"
    },
    {
     "data": {
      "application/vnd.jupyter.widget-view+json": {
       "model_id": "207d0343b6ec4bc0b57ecd90542a2d6f",
       "version_major": 2,
       "version_minor": 0
      },
      "text/plain": [
       "vocab.json:   0%|          | 0.00/899k [00:00<?, ?B/s]"
      ]
     },
     "metadata": {},
     "output_type": "display_data"
    },
    {
     "data": {
      "application/vnd.jupyter.widget-view+json": {
       "model_id": "8fc8d2ed9a4e44eead467252c0b840bd",
       "version_major": 2,
       "version_minor": 0
      },
      "text/plain": [
       "merges.txt:   0%|          | 0.00/456k [00:00<?, ?B/s]"
      ]
     },
     "metadata": {},
     "output_type": "display_data"
    },
    {
     "data": {
      "application/vnd.jupyter.widget-view+json": {
       "model_id": "0b4d467b8b6a44ea97a348f73b120caa",
       "version_major": 2,
       "version_minor": 0
      },
      "text/plain": [
       "tokenizer.json:   0%|          | 0.00/2.11M [00:00<?, ?B/s]"
      ]
     },
     "metadata": {},
     "output_type": "display_data"
    },
    {
     "data": {
      "application/vnd.jupyter.widget-view+json": {
       "model_id": "881d99b75c9943d5809ca714d67f264d",
       "version_major": 2,
       "version_minor": 0
      },
      "text/plain": [
       "special_tokens_map.json:   0%|          | 0.00/357 [00:00<?, ?B/s]"
      ]
     },
     "metadata": {},
     "output_type": "display_data"
    },
    {
     "data": {
      "application/vnd.jupyter.widget-view+json": {
       "model_id": "29a4f1d6471a4100a0ac4b34740593ea",
       "version_major": 2,
       "version_minor": 0
      },
      "text/plain": [
       "config.json:   0%|          | 0.00/1.01k [00:00<?, ?B/s]"
      ]
     },
     "metadata": {},
     "output_type": "display_data"
    },
    {
     "data": {
      "application/vnd.jupyter.widget-view+json": {
       "model_id": "ade2ef45d7b74471829eae42b6c07101",
       "version_major": 2,
       "version_minor": 0
      },
      "text/plain": [
       "model.safetensors:   0%|          | 0.00/526M [00:00<?, ?B/s]"
      ]
     },
     "metadata": {},
     "output_type": "display_data"
    },
    {
     "data": {
      "application/vnd.jupyter.widget-view+json": {
       "model_id": "5ac1a6ba77274866981204726399d6e0",
       "version_major": 2,
       "version_minor": 0
      },
      "text/plain": [
       "generation_config.json:   0%|          | 0.00/119 [00:00<?, ?B/s]"
      ]
     },
     "metadata": {},
     "output_type": "display_data"
    },
    {
     "name": "stderr",
     "output_type": "stream",
     "text": [
      "The attention mask and the pad token id were not set. As a consequence, you may observe unexpected behavior. Please pass your input's `attention_mask` to obtain reliable results.\n",
      "Setting `pad_token_id` to `eos_token_id`:50256 for open-end generation.\n",
      "The attention mask is not set and cannot be inferred from input because pad token is same as eos token. As a consequence, you may observe unexpected behavior. Please pass your input's `attention_mask` to obtain reliable results.\n"
     ]
    }
   ],
   "source": [
    "from transformers import GPTNeoForCausalLM, GPT2Tokenizer\n",
    "\n",
    "# Load model directly\n",
    "from transformers import AutoTokenizer, AutoModelForCausalLM\n",
    "\n",
    "tokenizer = AutoTokenizer.from_pretrained(\"EleutherAI/gpt-neo-125m\")\n",
    "model = AutoModelForCausalLM.from_pretrained(\"EleutherAI/gpt-neo-125m\")\n",
    "prompt = (\n",
    "    \"In a shocking finding, scientists discovered a herd of unicorns living in a remote, \"\n",
    "    \"previously unexplored valley, in the Andes Mountains. Even more surprising to the \"\n",
    "    \"researchers was the fact that the unicorns spoke perfect English.\"\n",
    ")\n",
    "\n",
    "input_ids = tokenizer(prompt, return_tensors=\"pt\").input_ids\n",
    "\n",
    "gen_tokens = model.generate(\n",
    "    input_ids,\n",
    "    do_sample=True,\n",
    "    temperature=0.9,\n",
    "    max_length=100,\n",
    ")\n",
    "gen_text = tokenizer.batch_decode(gen_tokens)[0]"
   ]
  },
  {
   "cell_type": "code",
   "execution_count": 38,
   "metadata": {},
   "outputs": [
    {
     "data": {
      "text/plain": [
       "GPTNeoConfig {\n",
       "  \"activation_function\": \"gelu_new\",\n",
       "  \"attention_dropout\": 0.0,\n",
       "  \"attention_layers\": [\n",
       "    \"global\",\n",
       "    \"local\",\n",
       "    \"global\",\n",
       "    \"local\",\n",
       "    \"global\",\n",
       "    \"local\",\n",
       "    \"global\",\n",
       "    \"local\"\n",
       "  ],\n",
       "  \"attention_types\": [\n",
       "    [\n",
       "      [\n",
       "        \"global\",\n",
       "        \"local\"\n",
       "      ],\n",
       "      4\n",
       "    ]\n",
       "  ],\n",
       "  \"bos_token_id\": 50256,\n",
       "  \"classifier_dropout\": 0.1,\n",
       "  \"embed_dropout\": 0.0,\n",
       "  \"eos_token_id\": 50256,\n",
       "  \"hidden_size\": 2048,\n",
       "  \"initializer_range\": 0.02,\n",
       "  \"intermediate_size\": null,\n",
       "  \"layer_norm_epsilon\": 1e-05,\n",
       "  \"max_position_embeddings\": 2048,\n",
       "  \"model_type\": \"gpt_neo\",\n",
       "  \"num_heads\": 16,\n",
       "  \"num_layers\": 8,\n",
       "  \"resid_dropout\": 0.0,\n",
       "  \"transformers_version\": \"4.48.3\",\n",
       "  \"use_cache\": true,\n",
       "  \"vocab_size\": 50257,\n",
       "  \"window_size\": 256\n",
       "}"
      ]
     },
     "execution_count": 38,
     "metadata": {},
     "output_type": "execute_result"
    }
   ],
   "source": [
    "GPTNeoConfig(attention_types=[[['global', 'local'], 4]],num_layers=8)"
   ]
  },
  {
   "cell_type": "code",
   "execution_count": 41,
   "metadata": {},
   "outputs": [],
   "source": [
    "model =GPTNeoForCausalLM(GPTNeoConfig(attention_types=[[['global', 'local'], 4]],num_layers=8))\n",
    "model.save_pretrained(\"dd\")\n",
    "mo = GPTNeoForCausalLM.from_pretrained(\"dd\")"
   ]
  },
  {
   "cell_type": "code",
   "execution_count": null,
   "metadata": {},
   "outputs": [],
   "source": [
    "from transformers import pipeline\n",
    "\n",
    "pipe2 = pipeline(\"text-generation\", model=\"roneneldan/TinyStories-8M\")\n",
    "print(pipe2(\"Once upon a time in a cave on top of a hill\", max_new_tokens=400)[0][\"generated_text\"])"
   ]
  },
  {
   "cell_type": "code",
   "execution_count": null,
   "metadata": {},
   "outputs": [],
   "source": [
    "# Use a pipeline as a high-level helper\n",
    "from transformers import pipeline\n",
    "\n",
    "pipe3 = pipeline(\"text-generation\", model=\"roneneldan/TinyStories-33M\")\n",
    "print(pipe3(\"Once upon a time in a cave on top of a hill\", max_new_tokens=400)[0][\"generated_text\"])"
   ]
  },
  {
   "cell_type": "code",
   "execution_count": null,
   "metadata": {},
   "outputs": [],
   "source": [
    "# Use a pipeline as a high-level helper\n",
    "from transformers import pipeline\n",
    "\n",
    "pipe = pipeline(\"text-generation\", model=\"HuggingFaceTB/SmolLM2-135M\", device_map=\"auto\")\n",
    "print(pipe(\"Once upon a time in a cave on top of a hill\", max_new_tokens=400)[0][\"generated_text\"])\n"
   ]
  }
 ],
 "metadata": {
  "kernelspec": {
   "display_name": "base",
   "language": "python",
   "name": "python3"
  },
  "language_info": {
   "codemirror_mode": {
    "name": "ipython",
    "version": 3
   },
   "file_extension": ".py",
   "mimetype": "text/x-python",
   "name": "python",
   "nbconvert_exporter": "python",
   "pygments_lexer": "ipython3",
   "version": "3.12.2"
  }
 },
 "nbformat": 4,
 "nbformat_minor": 2
}

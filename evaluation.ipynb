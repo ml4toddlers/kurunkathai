{
 "cells": [
  {
   "cell_type": "code",
   "execution_count": 1,
   "metadata": {},
   "outputs": [],
   "source": [
    "from gptEval import generate_and_rate\n",
    "import json\n",
    "import numpy as np"
   ]
  },
  {
   "cell_type": "code",
   "execution_count": 7,
   "metadata": {},
   "outputs": [],
   "source": [
    "import datasets\n",
    "import numpy as np\n",
    "stories = datasets.load_dataset(\"tniranjan/tinystories_ta_google_translate\")[\"validation\"][np.arange(0,21000,400)][\"text\"]\n",
    "valid = {}\n",
    "valid[\"validation\"] = [story[:75] for story in stories][:50]\n",
    "json.dump(valid, open(\"evaluation/validation.json\", \"w\", encoding=\"utf-8\"), ensure_ascii=False, indent=4)\n",
    "json.dump(stories[:50], open(\"evaluation/validation_full.json\", \"w\", encoding=\"utf-8\"), ensure_ascii=False, indent=4)"
   ]
  },
  {
   "cell_type": "code",
   "execution_count": 2,
   "metadata": {},
   "outputs": [
    {
     "name": "stderr",
     "output_type": "stream",
     "text": [
      "Generating for test with finetuned_Llama_tinystories_tinystories_ta: 100%|██████████| 67/67 [00:36<00:00,  1.82it/s]\n"
     ]
    },
    {
     "name": "stdout",
     "output_type": "stream",
     "text": [
      "67\n",
      "Average ratings for test set with gpt-3.5-turbo:{'Creativity': 5.597014925373134, 'Consistency': 5.940298507462686, 'Grammar': 4.82089552238806, 'Plot': 6.925373134328358}\n",
      "Average ratings for test set with gpt-4o-2024-08-06:{'Creativity': 5.208955223880597, 'Consistency': 4.268656716417911, 'Grammar': 4.641791044776119, 'Plot': 4.268656716417911}\n"
     ]
    },
    {
     "name": "stderr",
     "output_type": "stream",
     "text": [
      "Generating for validation with finetuned_Llama_tinystories_tinystories_ta: 100%|██████████| 50/50 [00:25<00:00,  1.94it/s]\n"
     ]
    },
    {
     "name": "stdout",
     "output_type": "stream",
     "text": [
      "50\n",
      "Average ratings for validation set with gpt-3.5-turbo:{'Creativity': 5.94, 'Consistency': 6.54, 'Grammar': 5.96, 'Plot': 6.88}\n",
      "Average ratings for validation set with gpt-4o-2024-08-06:{'Creativity': 5.32, 'Consistency': 4.34, 'Grammar': 5.46, 'Plot': 4.34}\n"
     ]
    },
    {
     "name": "stderr",
     "output_type": "stream",
     "text": [
      "Generating for test with finetuned_gptneo-base-tinystories-ta_v3: 100%|██████████| 67/67 [00:50<00:00,  1.31it/s]\n"
     ]
    },
    {
     "name": "stdout",
     "output_type": "stream",
     "text": [
      "67\n",
      "Average ratings for test set with gpt-3.5-turbo:{'Creativity': 5.925373134328358, 'Consistency': 6.686567164179104, 'Grammar': 5.8059701492537314, 'Plot': 6.686567164179104}\n",
      "Average ratings for test set with gpt-4o-2024-08-06:{'Creativity': 5.388059701492537, 'Consistency': 4.567164179104478, 'Grammar': 5.462686567164179, 'Plot': 4.358208955223881}\n"
     ]
    },
    {
     "name": "stderr",
     "output_type": "stream",
     "text": [
      "Generating for validation with finetuned_gptneo-base-tinystories-ta_v3: 100%|██████████| 50/50 [00:37<00:00,  1.32it/s]\n"
     ]
    },
    {
     "name": "stdout",
     "output_type": "stream",
     "text": [
      "50\n",
      "Average ratings for validation set with gpt-3.5-turbo:{'Creativity': 5.94, 'Consistency': 6.74, 'Grammar': 5.84, 'Plot': 6.78}\n",
      "Average ratings for validation set with gpt-4o-2024-08-06:{'Creativity': 5.4, 'Consistency': 4.92, 'Grammar': 6.26, 'Plot': 4.48}\n"
     ]
    },
    {
     "name": "stderr",
     "output_type": "stream",
     "text": [
      "Generating for test with finetuned_gptneo-base-tinystories-ta_v2: 100%|██████████| 67/67 [00:51<00:00,  1.31it/s]\n"
     ]
    },
    {
     "name": "stdout",
     "output_type": "stream",
     "text": [
      "67\n",
      "Average ratings for test set with gpt-3.5-turbo:{'Creativity': 5.417910447761194, 'Consistency': 5.970149253731344, 'Grammar': 5.358208955223881, 'Plot': 6.2388059701492535}\n",
      "Average ratings for test set with gpt-4o-2024-08-06:{'Creativity': 5.119402985074627, 'Consistency': 4.119402985074627, 'Grammar': 4.865671641791045, 'Plot': 3.8955223880597014}\n"
     ]
    },
    {
     "name": "stderr",
     "output_type": "stream",
     "text": [
      "Generating for validation with finetuned_gptneo-base-tinystories-ta_v2: 100%|██████████| 50/50 [00:38<00:00,  1.30it/s]\n"
     ]
    },
    {
     "name": "stdout",
     "output_type": "stream",
     "text": [
      "50\n",
      "Average ratings for validation set with gpt-3.5-turbo:{'Creativity': 5.98, 'Consistency': 6.7, 'Grammar': 6.02, 'Plot': 6.62}\n",
      "Average ratings for validation set with gpt-4o-2024-08-06:{'Creativity': 5.32, 'Consistency': 4.48, 'Grammar': 5.92, 'Plot': 4.16}\n"
     ]
    },
    {
     "data": {
      "application/vnd.jupyter.widget-view+json": {
       "model_id": "a50178371c93466e87b803724ed03ee0",
       "version_major": 2,
       "version_minor": 0
      },
      "text/plain": [
       "tokenizer_config.json:   0%|          | 0.00/1.71k [00:00<?, ?B/s]"
      ]
     },
     "metadata": {},
     "output_type": "display_data"
    },
    {
     "data": {
      "application/vnd.jupyter.widget-view+json": {
       "model_id": "ae1a02aee3954028a69be1dbfee334ef",
       "version_major": 2,
       "version_minor": 0
      },
      "text/plain": [
       "tokenizer.model:   0%|          | 0.00/1.03M [00:00<?, ?B/s]"
      ]
     },
     "metadata": {},
     "output_type": "display_data"
    },
    {
     "data": {
      "application/vnd.jupyter.widget-view+json": {
       "model_id": "207e97058dc84d7b9df2ce609610bb8b",
       "version_major": 2,
       "version_minor": 0
      },
      "text/plain": [
       "tokenizer.json:   0%|          | 0.00/6.39M [00:00<?, ?B/s]"
      ]
     },
     "metadata": {},
     "output_type": "display_data"
    },
    {
     "data": {
      "application/vnd.jupyter.widget-view+json": {
       "model_id": "97f358fe30604de48767babf315e617e",
       "version_major": 2,
       "version_minor": 0
      },
      "text/plain": [
       "added_tokens.json:   0%|          | 0.00/51.0 [00:00<?, ?B/s]"
      ]
     },
     "metadata": {},
     "output_type": "display_data"
    },
    {
     "data": {
      "application/vnd.jupyter.widget-view+json": {
       "model_id": "2817b6247dcc4b06beab0d0f443ba7f5",
       "version_major": 2,
       "version_minor": 0
      },
      "text/plain": [
       "special_tokens_map.json:   0%|          | 0.00/551 [00:00<?, ?B/s]"
      ]
     },
     "metadata": {},
     "output_type": "display_data"
    },
    {
     "data": {
      "application/vnd.jupyter.widget-view+json": {
       "model_id": "0503e8eb976d4bc2bffa2095d8cdc7b0",
       "version_major": 2,
       "version_minor": 0
      },
      "text/plain": [
       "config.json:   0%|          | 0.00/1.07k [00:00<?, ?B/s]"
      ]
     },
     "metadata": {},
     "output_type": "display_data"
    },
    {
     "data": {
      "application/vnd.jupyter.widget-view+json": {
       "model_id": "e6a70c3cea314ccb98ec69d40c1c92fb",
       "version_major": 2,
       "version_minor": 0
      },
      "text/plain": [
       "model.safetensors:   0%|          | 0.00/33.0M [00:00<?, ?B/s]"
      ]
     },
     "metadata": {},
     "output_type": "display_data"
    },
    {
     "data": {
      "application/vnd.jupyter.widget-view+json": {
       "model_id": "4a7d230b1535418ca2ca8f51bb367368",
       "version_major": 2,
       "version_minor": 0
      },
      "text/plain": [
       "generation_config.json:   0%|          | 0.00/119 [00:00<?, ?B/s]"
      ]
     },
     "metadata": {},
     "output_type": "display_data"
    },
    {
     "name": "stderr",
     "output_type": "stream",
     "text": [
      "Generating for test with finetuned_tinystories_3M_tinystories_ta: 100%|██████████| 67/67 [00:50<00:00,  1.32it/s]\n"
     ]
    },
    {
     "name": "stdout",
     "output_type": "stream",
     "text": [
      "67\n",
      "Average ratings for test set with gpt-3.5-turbo:{'Creativity': 5.447761194029851, 'Consistency': 5.462686567164179, 'Grammar': 5.029850746268656, 'Plot': 6.1940298507462686}\n",
      "Average ratings for test set with gpt-4o-2024-08-06:{'Creativity': 4.6716417910447765, 'Consistency': 3.5970149253731343, 'Grammar': 3.8358208955223883, 'Plot': 3.388059701492537}\n"
     ]
    },
    {
     "name": "stderr",
     "output_type": "stream",
     "text": [
      "Generating for validation with finetuned_tinystories_3M_tinystories_ta: 100%|██████████| 50/50 [00:37<00:00,  1.33it/s]\n"
     ]
    },
    {
     "name": "stdout",
     "output_type": "stream",
     "text": [
      "50\n",
      "Average ratings for validation set with gpt-3.5-turbo:{'Creativity': 5.9, 'Consistency': 6.38, 'Grammar': 5.04, 'Plot': 6.52}\n",
      "Average ratings for validation set with gpt-4o-2024-08-06:{'Creativity': 4.88, 'Consistency': 3.88, 'Grammar': 4.04, 'Plot': 3.8}\n"
     ]
    },
    {
     "data": {
      "application/vnd.jupyter.widget-view+json": {
       "model_id": "668a412134374188b9c224ae1a231bd3",
       "version_major": 2,
       "version_minor": 0
      },
      "text/plain": [
       "tokenizer_config.json:   0%|          | 0.00/1.71k [00:00<?, ?B/s]"
      ]
     },
     "metadata": {},
     "output_type": "display_data"
    },
    {
     "data": {
      "application/vnd.jupyter.widget-view+json": {
       "model_id": "77770cb2f30848f38ae0aac7706483c8",
       "version_major": 2,
       "version_minor": 0
      },
      "text/plain": [
       "tokenizer.model:   0%|          | 0.00/1.03M [00:00<?, ?B/s]"
      ]
     },
     "metadata": {},
     "output_type": "display_data"
    },
    {
     "data": {
      "application/vnd.jupyter.widget-view+json": {
       "model_id": "dca6e41608ac466da80fa83cbfa6fd7f",
       "version_major": 2,
       "version_minor": 0
      },
      "text/plain": [
       "tokenizer.json:   0%|          | 0.00/6.39M [00:00<?, ?B/s]"
      ]
     },
     "metadata": {},
     "output_type": "display_data"
    },
    {
     "data": {
      "application/vnd.jupyter.widget-view+json": {
       "model_id": "7c03e9c66b1d4466841b8446e7ca3abe",
       "version_major": 2,
       "version_minor": 0
      },
      "text/plain": [
       "added_tokens.json:   0%|          | 0.00/51.0 [00:00<?, ?B/s]"
      ]
     },
     "metadata": {},
     "output_type": "display_data"
    },
    {
     "data": {
      "application/vnd.jupyter.widget-view+json": {
       "model_id": "ed8eb09b33ea437ea85598d02b728f67",
       "version_major": 2,
       "version_minor": 0
      },
      "text/plain": [
       "special_tokens_map.json:   0%|          | 0.00/551 [00:00<?, ?B/s]"
      ]
     },
     "metadata": {},
     "output_type": "display_data"
    },
    {
     "data": {
      "application/vnd.jupyter.widget-view+json": {
       "model_id": "4358a78da75540049289a7f788709b57",
       "version_major": 2,
       "version_minor": 0
      },
      "text/plain": [
       "config.json:   0%|          | 0.00/1.04k [00:00<?, ?B/s]"
      ]
     },
     "metadata": {},
     "output_type": "display_data"
    },
    {
     "data": {
      "application/vnd.jupyter.widget-view+json": {
       "model_id": "92fc3cf64b1640ab8fd27c1c9f88391e",
       "version_major": 2,
       "version_minor": 0
      },
      "text/plain": [
       "model.safetensors:   0%|          | 0.00/273M [00:00<?, ?B/s]"
      ]
     },
     "metadata": {},
     "output_type": "display_data"
    },
    {
     "data": {
      "application/vnd.jupyter.widget-view+json": {
       "model_id": "7db1bc5948a54cd6800e343189762ab0",
       "version_major": 2,
       "version_minor": 0
      },
      "text/plain": [
       "generation_config.json:   0%|          | 0.00/119 [00:00<?, ?B/s]"
      ]
     },
     "metadata": {},
     "output_type": "display_data"
    },
    {
     "name": "stderr",
     "output_type": "stream",
     "text": [
      "Generating for test with finetuned_tinystories_33M_pretrained_tinystories_ta: 100%|██████████| 67/67 [00:30<00:00,  2.17it/s]\n"
     ]
    },
    {
     "name": "stdout",
     "output_type": "stream",
     "text": [
      "67\n",
      "Average ratings for test set with gpt-3.5-turbo:{'Creativity': 5.880597014925373, 'Consistency': 6.223880597014926, 'Grammar': 5.432835820895522, 'Plot': 6.850746268656716}\n",
      "Average ratings for test set with gpt-4o-2024-08-06:{'Creativity': 5.268656716417911, 'Consistency': 4.298507462686567, 'Grammar': 4.82089552238806, 'Plot': 4.17910447761194}\n"
     ]
    },
    {
     "name": "stderr",
     "output_type": "stream",
     "text": [
      "Generating for validation with finetuned_tinystories_33M_pretrained_tinystories_ta: 100%|██████████| 50/50 [00:23<00:00,  2.17it/s]\n"
     ]
    },
    {
     "name": "stdout",
     "output_type": "stream",
     "text": [
      "50\n",
      "Average ratings for validation set with gpt-3.5-turbo:{'Creativity': 6.02, 'Consistency': 6.7, 'Grammar': 5.84, 'Plot': 6.62}\n",
      "Average ratings for validation set with gpt-4o-2024-08-06:{'Creativity': 5.5, 'Consistency': 4.9, 'Grammar': 6.12, 'Plot': 4.52}\n"
     ]
    },
    {
     "name": "stderr",
     "output_type": "stream",
     "text": [
      "Generating for test with finetuned_tinystories_3M_tinystories_ta: 100%|██████████| 67/67 [00:49<00:00,  1.36it/s]\n"
     ]
    },
    {
     "name": "stdout",
     "output_type": "stream",
     "text": [
      "67\n",
      "Average ratings for test set with gpt-3.5-turbo:{'Creativity': 5.462686567164179, 'Consistency': 5.776119402985074, 'Grammar': 4.791044776119403, 'Plot': 6.298507462686567}\n",
      "Average ratings for test set with gpt-4o-2024-08-06:{'Creativity': 4.701492537313433, 'Consistency': 3.6417910447761193, 'Grammar': 3.4925373134328357, 'Plot': 3.373134328358209}\n"
     ]
    },
    {
     "name": "stderr",
     "output_type": "stream",
     "text": [
      "Generating for validation with finetuned_tinystories_3M_tinystories_ta: 100%|██████████| 50/50 [00:36<00:00,  1.37it/s]\n"
     ]
    },
    {
     "name": "stdout",
     "output_type": "stream",
     "text": [
      "50\n",
      "Average ratings for validation set with gpt-3.5-turbo:{'Creativity': 5.62, 'Consistency': 5.96, 'Grammar': 5.26, 'Plot': 5.96}\n",
      "Average ratings for validation set with gpt-4o-2024-08-06:{'Creativity': 4.96, 'Consistency': 3.92, 'Grammar': 3.78, 'Plot': 3.86}\n"
     ]
    },
    {
     "data": {
      "application/vnd.jupyter.widget-view+json": {
       "model_id": "8f5059a488924e468c0121ae883e3f0e",
       "version_major": 2,
       "version_minor": 0
      },
      "text/plain": [
       "tokenizer_config.json:   0%|          | 0.00/1.71k [00:00<?, ?B/s]"
      ]
     },
     "metadata": {},
     "output_type": "display_data"
    },
    {
     "data": {
      "application/vnd.jupyter.widget-view+json": {
       "model_id": "9ed9462ee84641c993db493fb4045108",
       "version_major": 2,
       "version_minor": 0
      },
      "text/plain": [
       "tokenizer.model:   0%|          | 0.00/1.03M [00:00<?, ?B/s]"
      ]
     },
     "metadata": {},
     "output_type": "display_data"
    },
    {
     "data": {
      "application/vnd.jupyter.widget-view+json": {
       "model_id": "3f9f2c311535470fab315fca3c966265",
       "version_major": 2,
       "version_minor": 0
      },
      "text/plain": [
       "tokenizer.json:   0%|          | 0.00/6.39M [00:00<?, ?B/s]"
      ]
     },
     "metadata": {},
     "output_type": "display_data"
    },
    {
     "data": {
      "application/vnd.jupyter.widget-view+json": {
       "model_id": "62e2cc03699a4cccbe05bd6fa7031ad4",
       "version_major": 2,
       "version_minor": 0
      },
      "text/plain": [
       "added_tokens.json:   0%|          | 0.00/51.0 [00:00<?, ?B/s]"
      ]
     },
     "metadata": {},
     "output_type": "display_data"
    },
    {
     "data": {
      "application/vnd.jupyter.widget-view+json": {
       "model_id": "146313385766404b842e4a2b2df5216a",
       "version_major": 2,
       "version_minor": 0
      },
      "text/plain": [
       "special_tokens_map.json:   0%|          | 0.00/551 [00:00<?, ?B/s]"
      ]
     },
     "metadata": {},
     "output_type": "display_data"
    },
    {
     "data": {
      "application/vnd.jupyter.widget-view+json": {
       "model_id": "6dedb11467db4bd3acad763268b605fd",
       "version_major": 2,
       "version_minor": 0
      },
      "text/plain": [
       "config.json:   0%|          | 0.00/915 [00:00<?, ?B/s]"
      ]
     },
     "metadata": {},
     "output_type": "display_data"
    },
    {
     "data": {
      "application/vnd.jupyter.widget-view+json": {
       "model_id": "185af931d5914b449707f9ff92a7a16e",
       "version_major": 2,
       "version_minor": 0
      },
      "text/plain": [
       "model.safetensors:   0%|          | 0.00/612M [00:00<?, ?B/s]"
      ]
     },
     "metadata": {},
     "output_type": "display_data"
    },
    {
     "data": {
      "application/vnd.jupyter.widget-view+json": {
       "model_id": "33d29ab9c0aa40c9b850a13b80a63919",
       "version_major": 2,
       "version_minor": 0
      },
      "text/plain": [
       "generation_config.json:   0%|          | 0.00/119 [00:00<?, ?B/s]"
      ]
     },
     "metadata": {},
     "output_type": "display_data"
    },
    {
     "name": "stderr",
     "output_type": "stream",
     "text": [
      "Generating for test with finetuned_gptneo-base-tinystories-ta_v3_finetune_atnstories_2: 100%|██████████| 67/67 [00:50<00:00,  1.33it/s]\n"
     ]
    },
    {
     "name": "stdout",
     "output_type": "stream",
     "text": [
      "67\n",
      "Average ratings for test set with gpt-3.5-turbo:{'Creativity': 5.104477611940299, 'Consistency': 5.343283582089552, 'Grammar': 4.611940298507463, 'Plot': 6.223880597014926}\n",
      "Average ratings for test set with gpt-4o-2024-08-06:{'Creativity': 4.597014925373134, 'Consistency': 3.417910447761194, 'Grammar': 3.253731343283582, 'Plot': 3.1641791044776117}\n"
     ]
    },
    {
     "name": "stderr",
     "output_type": "stream",
     "text": [
      "Generating for validation with finetuned_gptneo-base-tinystories-ta_v3_finetune_atnstories_2: 100%|██████████| 50/50 [00:37<00:00,  1.33it/s]\n"
     ]
    },
    {
     "name": "stdout",
     "output_type": "stream",
     "text": [
      "50\n",
      "Average ratings for validation set with gpt-3.5-turbo:{'Creativity': 5.7, 'Consistency': 6.14, 'Grammar': 4.94, 'Plot': 6.7}\n",
      "Average ratings for validation set with gpt-4o-2024-08-06:{'Creativity': 4.68, 'Consistency': 3.58, 'Grammar': 3.64, 'Plot': 3.36}\n"
     ]
    },
    {
     "data": {
      "application/vnd.jupyter.widget-view+json": {
       "model_id": "1b885212e7e54df6a1777327b10ce911",
       "version_major": 2,
       "version_minor": 0
      },
      "text/plain": [
       "tokenizer_config.json:   0%|          | 0.00/1.71k [00:00<?, ?B/s]"
      ]
     },
     "metadata": {},
     "output_type": "display_data"
    },
    {
     "data": {
      "application/vnd.jupyter.widget-view+json": {
       "model_id": "f5dca759e95f4da5b9f1e87c2bb1fc81",
       "version_major": 2,
       "version_minor": 0
      },
      "text/plain": [
       "tokenizer.model:   0%|          | 0.00/1.03M [00:00<?, ?B/s]"
      ]
     },
     "metadata": {},
     "output_type": "display_data"
    },
    {
     "data": {
      "application/vnd.jupyter.widget-view+json": {
       "model_id": "82d714bdf27745e4b93ba5a6d2ea6c26",
       "version_major": 2,
       "version_minor": 0
      },
      "text/plain": [
       "tokenizer.json:   0%|          | 0.00/6.39M [00:00<?, ?B/s]"
      ]
     },
     "metadata": {},
     "output_type": "display_data"
    },
    {
     "data": {
      "application/vnd.jupyter.widget-view+json": {
       "model_id": "c1acfd49bfe246a49d3b363edcabb913",
       "version_major": 2,
       "version_minor": 0
      },
      "text/plain": [
       "added_tokens.json:   0%|          | 0.00/51.0 [00:00<?, ?B/s]"
      ]
     },
     "metadata": {},
     "output_type": "display_data"
    },
    {
     "data": {
      "application/vnd.jupyter.widget-view+json": {
       "model_id": "6747796c01e64df38a7fbdedb4c27d31",
       "version_major": 2,
       "version_minor": 0
      },
      "text/plain": [
       "special_tokens_map.json:   0%|          | 0.00/551 [00:00<?, ?B/s]"
      ]
     },
     "metadata": {},
     "output_type": "display_data"
    },
    {
     "data": {
      "application/vnd.jupyter.widget-view+json": {
       "model_id": "a0f5d36f1db8419c897b5777079a64c2",
       "version_major": 2,
       "version_minor": 0
      },
      "text/plain": [
       "config.json:   0%|          | 0.00/915 [00:00<?, ?B/s]"
      ]
     },
     "metadata": {},
     "output_type": "display_data"
    },
    {
     "data": {
      "application/vnd.jupyter.widget-view+json": {
       "model_id": "43766dfa4c484a0981688c2e693198b2",
       "version_major": 2,
       "version_minor": 0
      },
      "text/plain": [
       "model.safetensors:   0%|          | 0.00/612M [00:00<?, ?B/s]"
      ]
     },
     "metadata": {},
     "output_type": "display_data"
    },
    {
     "data": {
      "application/vnd.jupyter.widget-view+json": {
       "model_id": "b0417573e55c406aa0669b9986f05cec",
       "version_major": 2,
       "version_minor": 0
      },
      "text/plain": [
       "generation_config.json:   0%|          | 0.00/119 [00:00<?, ?B/s]"
      ]
     },
     "metadata": {},
     "output_type": "display_data"
    },
    {
     "name": "stderr",
     "output_type": "stream",
     "text": [
      "Generating for test with finetuned_gptneo-base-tinystories-ta_v3_finetune_atnstories: 100%|██████████| 67/67 [00:51<00:00,  1.30it/s]\n"
     ]
    },
    {
     "name": "stdout",
     "output_type": "stream",
     "text": [
      "67\n",
      "Average ratings for test set with gpt-3.5-turbo:{'Creativity': 5.029850746268656, 'Consistency': 5.3283582089552235, 'Grammar': 4.17910447761194, 'Plot': 6.104477611940299}\n",
      "Average ratings for test set with gpt-4o-2024-08-06:{'Creativity': 4.6716417910447765, 'Consistency': 3.5522388059701493, 'Grammar': 3.253731343283582, 'Plot': 3.388059701492537}\n"
     ]
    },
    {
     "name": "stderr",
     "output_type": "stream",
     "text": [
      "Generating for validation with finetuned_gptneo-base-tinystories-ta_v3_finetune_atnstories: 100%|██████████| 50/50 [00:38<00:00,  1.31it/s]\n"
     ]
    },
    {
     "name": "stdout",
     "output_type": "stream",
     "text": [
      "50\n",
      "Average ratings for validation set with gpt-3.5-turbo:{'Creativity': 5.86, 'Consistency': 6.34, 'Grammar': 5.26, 'Plot': 6.6}\n",
      "Average ratings for validation set with gpt-4o-2024-08-06:{'Creativity': 4.9, 'Consistency': 3.82, 'Grammar': 3.58, 'Plot': 3.6}\n"
     ]
    }
   ],
   "source": [
    "all_models = json.load(open(\"evaluation/all_models.json\"))\n",
    "for stage in all_models:\n",
    "    for model in all_models[stage]:\n",
    "        model_config = json.dumps({\"model_path_dict\": {\"pretrained_model_name_or_path\": model,\"revision\": \"main\"}, \"tokenizer_name\": model})\n",
    "        generate_and_rate(model_config)"
   ]
  },
  {
   "cell_type": "code",
   "execution_count": 2,
   "metadata": {},
   "outputs": [],
   "source": [
    "import huggingface_hub\n",
    "models = [\"tniranjan/finetuned_gptneo-base-tinystories-ta_v3\", \"tniranjan/finetuned_tinystories_33M_pretrained_tinystories_ta\", \"tniranjan/finetuned_Llama_tinystories_tinystories_ta\"]"
   ]
  },
  {
   "cell_type": "code",
   "execution_count": 3,
   "metadata": {},
   "outputs": [
    {
     "name": "stdout",
     "output_type": "stream",
     "text": [
      "7029\n"
     ]
    },
    {
     "name": "stderr",
     "output_type": "stream",
     "text": [
      "Generating for test with finetuned_gptneo-base-tinystories-ta_v31c4272: 100%|██████████| 67/67 [00:50<00:00,  1.33it/s]\n"
     ]
    },
    {
     "name": "stdout",
     "output_type": "stream",
     "text": [
      "67\n",
      "Average ratings for test set with gpt-3.5-turbo:{'Creativity': 5.611940298507463, 'Consistency': 6.149253731343284, 'Grammar': 5.298507462686567, 'Plot': 6.537313432835821}\n",
      "Average ratings for test set with gpt-4o-2024-08-06:{'Creativity': 5.373134328358209, 'Consistency': 4.373134328358209, 'Grammar': 5.343283582089552, 'Plot': 4.164179104477612}\n"
     ]
    },
    {
     "name": "stderr",
     "output_type": "stream",
     "text": [
      "Generating for validation with finetuned_gptneo-base-tinystories-ta_v31c4272: 100%|██████████| 50/50 [00:37<00:00,  1.34it/s]\n"
     ]
    },
    {
     "name": "stdout",
     "output_type": "stream",
     "text": [
      "50\n",
      "Average ratings for validation set with gpt-3.5-turbo:{'Creativity': 5.96, 'Consistency': 6.76, 'Grammar': 6.06, 'Plot': 6.76}\n",
      "Average ratings for validation set with gpt-4o-2024-08-06:{'Creativity': 5.48, 'Consistency': 5.16, 'Grammar': 6.4, 'Plot': 4.66}\n",
      "6468\n"
     ]
    },
    {
     "name": "stderr",
     "output_type": "stream",
     "text": [
      "Generating for test with finetuned_gptneo-base-tinystories-ta_v3599e16: 100%|██████████| 67/67 [00:51<00:00,  1.29it/s]\n"
     ]
    },
    {
     "name": "stdout",
     "output_type": "stream",
     "text": [
      "67\n",
      "Average ratings for test set with gpt-3.5-turbo:{'Creativity': 5.6716417910447765, 'Consistency': 6.164179104477612, 'Grammar': 5.552238805970149, 'Plot': 6.7164179104477615}\n",
      "Average ratings for test set with gpt-4o-2024-08-06:{'Creativity': 5.432835820895522, 'Consistency': 4.462686567164179, 'Grammar': 5.388059701492537, 'Plot': 4.253731343283582}\n"
     ]
    },
    {
     "name": "stderr",
     "output_type": "stream",
     "text": [
      "Generating for validation with finetuned_gptneo-base-tinystories-ta_v3599e16: 100%|██████████| 50/50 [00:37<00:00,  1.33it/s]\n"
     ]
    },
    {
     "name": "stdout",
     "output_type": "stream",
     "text": [
      "50\n",
      "Average ratings for validation set with gpt-3.5-turbo:{'Creativity': 6.04, 'Consistency': 6.76, 'Grammar': 6.12, 'Plot': 6.96}\n",
      "Average ratings for validation set with gpt-4o-2024-08-06:{'Creativity': 5.48, 'Consistency': 5.12, 'Grammar': 6.36, 'Plot': 4.6}\n",
      "5684\n"
     ]
    },
    {
     "name": "stderr",
     "output_type": "stream",
     "text": [
      "Generating for test with finetuned_gptneo-base-tinystories-ta_v3812264: 100%|██████████| 67/67 [00:52<00:00,  1.29it/s]\n"
     ]
    },
    {
     "name": "stdout",
     "output_type": "stream",
     "text": [
      "67\n",
      "Average ratings for test set with gpt-3.5-turbo:{'Creativity': 5.835820895522388, 'Consistency': 6.477611940298507, 'Grammar': 5.925373134328358, 'Plot': 6.865671641791045}\n",
      "Average ratings for test set with gpt-4o-2024-08-06:{'Creativity': 5.402985074626866, 'Consistency': 4.462686567164179, 'Grammar': 5.417910447761194, 'Plot': 4.343283582089552}\n"
     ]
    },
    {
     "name": "stderr",
     "output_type": "stream",
     "text": [
      "Generating for validation with finetuned_gptneo-base-tinystories-ta_v3812264: 100%|██████████| 50/50 [00:39<00:00,  1.27it/s]\n"
     ]
    },
    {
     "name": "stdout",
     "output_type": "stream",
     "text": [
      "50\n",
      "Average ratings for validation set with gpt-3.5-turbo:{'Creativity': 5.94, 'Consistency': 6.78, 'Grammar': 5.92, 'Plot': 6.9}\n",
      "Average ratings for validation set with gpt-4o-2024-08-06:{'Creativity': 5.54, 'Consistency': 5.02, 'Grammar': 6.38, 'Plot': 4.54}\n",
      "4900\n"
     ]
    },
    {
     "name": "stderr",
     "output_type": "stream",
     "text": [
      "Generating for test with finetuned_gptneo-base-tinystories-ta_v315970e: 100%|██████████| 67/67 [00:52<00:00,  1.28it/s]\n"
     ]
    },
    {
     "name": "stdout",
     "output_type": "stream",
     "text": [
      "67\n",
      "Average ratings for test set with gpt-3.5-turbo:{'Creativity': 5.791044776119403, 'Consistency': 6.373134328358209, 'Grammar': 5.477611940298507, 'Plot': 6.597014925373134}\n",
      "Average ratings for test set with gpt-4o-2024-08-06:{'Creativity': 5.462686567164179, 'Consistency': 4.641791044776119, 'Grammar': 5.507462686567164, 'Plot': 4.358208955223881}\n"
     ]
    },
    {
     "name": "stderr",
     "output_type": "stream",
     "text": [
      "Generating for validation with finetuned_gptneo-base-tinystories-ta_v315970e: 100%|██████████| 50/50 [00:40<00:00,  1.25it/s]\n"
     ]
    },
    {
     "name": "stdout",
     "output_type": "stream",
     "text": [
      "50\n",
      "Average ratings for validation set with gpt-3.5-turbo:{'Creativity': 5.98, 'Consistency': 6.7, 'Grammar': 6.28, 'Plot': 6.82}\n",
      "Average ratings for validation set with gpt-4o-2024-08-06:{'Creativity': 5.54, 'Consistency': 4.78, 'Grammar': 6.22, 'Plot': 4.54}\n",
      "4116\n"
     ]
    },
    {
     "name": "stderr",
     "output_type": "stream",
     "text": [
      "Generating for test with finetuned_gptneo-base-tinystories-ta_v3934d78: 100%|██████████| 67/67 [00:53<00:00,  1.25it/s]\n"
     ]
    },
    {
     "name": "stdout",
     "output_type": "stream",
     "text": [
      "67\n",
      "Average ratings for test set with gpt-3.5-turbo:{'Creativity': 5.656716417910448, 'Consistency': 6.388059701492537, 'Grammar': 5.507462686567164, 'Plot': 6.522388059701493}\n",
      "Average ratings for test set with gpt-4o-2024-08-06:{'Creativity': 5.358208955223881, 'Consistency': 4.537313432835821, 'Grammar': 5.6716417910447765, 'Plot': 4.298507462686567}\n"
     ]
    },
    {
     "name": "stderr",
     "output_type": "stream",
     "text": [
      "Generating for validation with finetuned_gptneo-base-tinystories-ta_v3934d78: 100%|██████████| 50/50 [00:39<00:00,  1.27it/s]\n"
     ]
    },
    {
     "name": "stdout",
     "output_type": "stream",
     "text": [
      "50\n",
      "Average ratings for validation set with gpt-3.5-turbo:{'Creativity': 6.14, 'Consistency': 6.86, 'Grammar': 5.98, 'Plot': 6.92}\n",
      "Average ratings for validation set with gpt-4o-2024-08-06:{'Creativity': 5.52, 'Consistency': 5.08, 'Grammar': 6.54, 'Plot': 4.58}\n",
      "3332\n"
     ]
    },
    {
     "name": "stderr",
     "output_type": "stream",
     "text": [
      "Generating for test with finetuned_gptneo-base-tinystories-ta_v3d50420: 100%|██████████| 67/67 [00:50<00:00,  1.32it/s]\n"
     ]
    },
    {
     "name": "stdout",
     "output_type": "stream",
     "text": [
      "67\n",
      "Average ratings for test set with gpt-3.5-turbo:{'Creativity': 5.6716417910447765, 'Consistency': 6.074626865671642, 'Grammar': 5.656716417910448, 'Plot': 6.313432835820896}\n",
      "Average ratings for test set with gpt-4o-2024-08-06:{'Creativity': 5.2835820895522385, 'Consistency': 4.343283582089552, 'Grammar': 5.477611940298507, 'Plot': 4.208955223880597}\n"
     ]
    },
    {
     "name": "stderr",
     "output_type": "stream",
     "text": [
      "Generating for validation with finetuned_gptneo-base-tinystories-ta_v3d50420: 100%|██████████| 50/50 [00:37<00:00,  1.32it/s]\n"
     ]
    },
    {
     "name": "stdout",
     "output_type": "stream",
     "text": [
      "50\n",
      "Average ratings for validation set with gpt-3.5-turbo:{'Creativity': 5.94, 'Consistency': 6.54, 'Grammar': 5.9, 'Plot': 6.7}\n",
      "Average ratings for validation set with gpt-4o-2024-08-06:{'Creativity': 5.54, 'Consistency': 4.78, 'Grammar': 5.98, 'Plot': 4.48}\n",
      "2548\n"
     ]
    },
    {
     "data": {
      "application/vnd.jupyter.widget-view+json": {
       "model_id": "a3e3b35c23174d668f10128d22704c99",
       "version_major": 2,
       "version_minor": 0
      },
      "text/plain": [
       "model.safetensors:   0%|          | 0.00/612M [00:00<?, ?B/s]"
      ]
     },
     "metadata": {},
     "output_type": "display_data"
    },
    {
     "name": "stderr",
     "output_type": "stream",
     "text": [
      "Generating for test with finetuned_gptneo-base-tinystories-ta_v3bddb1c: 100%|██████████| 67/67 [00:50<00:00,  1.33it/s]\n"
     ]
    },
    {
     "name": "stdout",
     "output_type": "stream",
     "text": [
      "67\n",
      "Average ratings for test set with gpt-3.5-turbo:{'Creativity': 5.656716417910448, 'Consistency': 6.268656716417911, 'Grammar': 5.686567164179104, 'Plot': 6.611940298507463}\n",
      "Average ratings for test set with gpt-4o-2024-08-06:{'Creativity': 5.313432835820896, 'Consistency': 4.373134328358209, 'Grammar': 5.268656716417911, 'Plot': 4.208955223880597}\n"
     ]
    },
    {
     "name": "stderr",
     "output_type": "stream",
     "text": [
      "Generating for validation with finetuned_gptneo-base-tinystories-ta_v3bddb1c: 100%|██████████| 50/50 [00:38<00:00,  1.29it/s]\n"
     ]
    },
    {
     "name": "stdout",
     "output_type": "stream",
     "text": [
      "50\n",
      "Average ratings for validation set with gpt-3.5-turbo:{'Creativity': 5.98, 'Consistency': 6.78, 'Grammar': 5.92, 'Plot': 6.86}\n",
      "Average ratings for validation set with gpt-4o-2024-08-06:{'Creativity': 5.46, 'Consistency': 4.86, 'Grammar': 6.2, 'Plot': 4.46}\n",
      "1764\n"
     ]
    },
    {
     "data": {
      "application/vnd.jupyter.widget-view+json": {
       "model_id": "44ef2f8a66484be480cc2db9604653ad",
       "version_major": 2,
       "version_minor": 0
      },
      "text/plain": [
       "model.safetensors:   0%|          | 0.00/612M [00:00<?, ?B/s]"
      ]
     },
     "metadata": {},
     "output_type": "display_data"
    },
    {
     "name": "stderr",
     "output_type": "stream",
     "text": [
      "Generating for test with finetuned_gptneo-base-tinystories-ta_v3a53b26: 100%|██████████| 67/67 [00:50<00:00,  1.32it/s]\n"
     ]
    },
    {
     "name": "stdout",
     "output_type": "stream",
     "text": [
      "67\n",
      "Average ratings for test set with gpt-3.5-turbo:{'Creativity': 5.746268656716418, 'Consistency': 6.358208955223881, 'Grammar': 5.402985074626866, 'Plot': 6.850746268656716}\n",
      "Average ratings for test set with gpt-4o-2024-08-06:{'Creativity': 5.432835820895522, 'Consistency': 4.522388059701493, 'Grammar': 5.2835820895522385, 'Plot': 4.432835820895522}\n"
     ]
    },
    {
     "name": "stderr",
     "output_type": "stream",
     "text": [
      "Generating for validation with finetuned_gptneo-base-tinystories-ta_v3a53b26: 100%|██████████| 50/50 [00:39<00:00,  1.28it/s]\n"
     ]
    },
    {
     "name": "stdout",
     "output_type": "stream",
     "text": [
      "50\n",
      "Average ratings for validation set with gpt-3.5-turbo:{'Creativity': 5.9, 'Consistency': 6.7, 'Grammar': 5.82, 'Plot': 6.72}\n",
      "Average ratings for validation set with gpt-4o-2024-08-06:{'Creativity': 5.52, 'Consistency': 4.88, 'Grammar': 6.26, 'Plot': 4.44}\n",
      "980\n"
     ]
    },
    {
     "data": {
      "application/vnd.jupyter.widget-view+json": {
       "model_id": "1d73db32c7a849c2905f21768b34ea71",
       "version_major": 2,
       "version_minor": 0
      },
      "text/plain": [
       "model.safetensors:   0%|          | 0.00/612M [00:00<?, ?B/s]"
      ]
     },
     "metadata": {},
     "output_type": "display_data"
    },
    {
     "name": "stderr",
     "output_type": "stream",
     "text": [
      "Generating for test with finetuned_gptneo-base-tinystories-ta_v341c221: 100%|██████████| 67/67 [00:50<00:00,  1.32it/s]\n"
     ]
    },
    {
     "name": "stdout",
     "output_type": "stream",
     "text": [
      "67\n",
      "Average ratings for test set with gpt-3.5-turbo:{'Creativity': 5.791044776119403, 'Consistency': 6.253731343283582, 'Grammar': 5.626865671641791, 'Plot': 6.507462686567164}\n",
      "Average ratings for test set with gpt-4o-2024-08-06:{'Creativity': 5.149253731343284, 'Consistency': 4.208955223880597, 'Grammar': 5.014925373134329, 'Plot': 3.925373134328358}\n"
     ]
    },
    {
     "name": "stderr",
     "output_type": "stream",
     "text": [
      "Generating for validation with finetuned_gptneo-base-tinystories-ta_v341c221: 100%|██████████| 50/50 [00:38<00:00,  1.30it/s]\n"
     ]
    },
    {
     "name": "stdout",
     "output_type": "stream",
     "text": [
      "50\n",
      "Average ratings for validation set with gpt-3.5-turbo:{'Creativity': 5.9, 'Consistency': 6.66, 'Grammar': 5.58, 'Plot': 6.58}\n",
      "Average ratings for validation set with gpt-4o-2024-08-06:{'Creativity': 5.36, 'Consistency': 4.68, 'Grammar': 6.12, 'Plot': 4.34}\n",
      "196\n"
     ]
    },
    {
     "data": {
      "application/vnd.jupyter.widget-view+json": {
       "model_id": "16fca8d3996a42c3ab3faf6e6d9e61f9",
       "version_major": 2,
       "version_minor": 0
      },
      "text/plain": [
       "model.safetensors:   0%|          | 0.00/612M [00:00<?, ?B/s]"
      ]
     },
     "metadata": {},
     "output_type": "display_data"
    },
    {
     "name": "stderr",
     "output_type": "stream",
     "text": [
      "Generating for test with finetuned_gptneo-base-tinystories-ta_v38b58ab: 100%|██████████| 67/67 [00:51<00:00,  1.30it/s]\n"
     ]
    },
    {
     "name": "stdout",
     "output_type": "stream",
     "text": [
      "67\n",
      "Average ratings for test set with gpt-3.5-turbo:{'Creativity': 5.850746268656716, 'Consistency': 6.492537313432836, 'Grammar': 5.686567164179104, 'Plot': 6.880597014925373}\n",
      "Average ratings for test set with gpt-4o-2024-08-06:{'Creativity': 4.850746268656716, 'Consistency': 3.8208955223880596, 'Grammar': 4.2388059701492535, 'Plot': 3.6417910447761193}\n"
     ]
    },
    {
     "name": "stderr",
     "output_type": "stream",
     "text": [
      "Generating for validation with finetuned_gptneo-base-tinystories-ta_v38b58ab: 100%|██████████| 50/50 [00:39<00:00,  1.28it/s]\n"
     ]
    },
    {
     "name": "stdout",
     "output_type": "stream",
     "text": [
      "50\n",
      "Average ratings for validation set with gpt-3.5-turbo:{'Creativity': 5.92, 'Consistency': 6.6, 'Grammar': 6.0, 'Plot': 6.72}\n",
      "Average ratings for validation set with gpt-4o-2024-08-06:{'Creativity': 4.9, 'Consistency': 3.94, 'Grammar': 4.96, 'Plot': 3.6}\n",
      "7810\n"
     ]
    },
    {
     "name": "stderr",
     "output_type": "stream",
     "text": [
      "Generating for test with finetuned_tinystories_33M_pretrained_tinystories_tacc6e35: 100%|██████████| 67/67 [00:30<00:00,  2.17it/s]\n"
     ]
    },
    {
     "name": "stdout",
     "output_type": "stream",
     "text": [
      "67\n",
      "Average ratings for test set with gpt-3.5-turbo:{'Creativity': 5.82089552238806, 'Consistency': 6.313432835820896, 'Grammar': 5.432835820895522, 'Plot': 6.656716417910448}\n",
      "Average ratings for test set with gpt-4o-2024-08-06:{'Creativity': 5.417910447761194, 'Consistency': 4.537313432835821, 'Grammar': 5.223880597014926, 'Plot': 4.402985074626866}\n"
     ]
    },
    {
     "name": "stderr",
     "output_type": "stream",
     "text": [
      "Generating for validation with finetuned_tinystories_33M_pretrained_tinystories_tacc6e35: 100%|██████████| 50/50 [00:23<00:00,  2.16it/s]\n"
     ]
    },
    {
     "name": "stdout",
     "output_type": "stream",
     "text": [
      "50\n",
      "Average ratings for validation set with gpt-3.5-turbo:{'Creativity': 5.86, 'Consistency': 6.66, 'Grammar': 5.86, 'Plot': 6.44}\n",
      "Average ratings for validation set with gpt-4o-2024-08-06:{'Creativity': 5.46, 'Consistency': 4.82, 'Grammar': 6.06, 'Plot': 4.56}\n",
      "7065\n"
     ]
    },
    {
     "data": {
      "application/vnd.jupyter.widget-view+json": {
       "model_id": "7192016170d846aa9e6b652e25da58aa",
       "version_major": 2,
       "version_minor": 0
      },
      "text/plain": [
       "model.safetensors:   0%|          | 0.00/273M [00:00<?, ?B/s]"
      ]
     },
     "metadata": {},
     "output_type": "display_data"
    },
    {
     "name": "stderr",
     "output_type": "stream",
     "text": [
      "Generating for test with finetuned_tinystories_33M_pretrained_tinystories_ta62d60c: 100%|██████████| 67/67 [00:31<00:00,  2.13it/s]\n"
     ]
    },
    {
     "name": "stdout",
     "output_type": "stream",
     "text": [
      "67\n",
      "Average ratings for test set with gpt-3.5-turbo:{'Creativity': 5.626865671641791, 'Consistency': 6.119402985074627, 'Grammar': 5.253731343283582, 'Plot': 6.388059701492537}\n",
      "Average ratings for test set with gpt-4o-2024-08-06:{'Creativity': 5.149253731343284, 'Consistency': 4.1940298507462686, 'Grammar': 4.985074626865671, 'Plot': 4.0}\n"
     ]
    },
    {
     "name": "stderr",
     "output_type": "stream",
     "text": [
      "Generating for validation with finetuned_tinystories_33M_pretrained_tinystories_ta62d60c: 100%|██████████| 50/50 [00:23<00:00,  2.14it/s]\n"
     ]
    },
    {
     "name": "stdout",
     "output_type": "stream",
     "text": [
      "50\n",
      "Average ratings for validation set with gpt-3.5-turbo:{'Creativity': 5.88, 'Consistency': 6.72, 'Grammar': 6.04, 'Plot': 6.68}\n",
      "Average ratings for validation set with gpt-4o-2024-08-06:{'Creativity': 5.38, 'Consistency': 4.74, 'Grammar': 6.24, 'Plot': 4.34}\n",
      "6280\n"
     ]
    },
    {
     "data": {
      "application/vnd.jupyter.widget-view+json": {
       "model_id": "3cc729d6578d456aba98bfbe623b2d46",
       "version_major": 2,
       "version_minor": 0
      },
      "text/plain": [
       "model.safetensors:   0%|          | 0.00/273M [00:00<?, ?B/s]"
      ]
     },
     "metadata": {},
     "output_type": "display_data"
    },
    {
     "name": "stderr",
     "output_type": "stream",
     "text": [
      "Generating for test with finetuned_tinystories_33M_pretrained_tinystories_tae5f94c: 100%|██████████| 67/67 [00:30<00:00,  2.19it/s]\n"
     ]
    },
    {
     "name": "stdout",
     "output_type": "stream",
     "text": [
      "Skipping empty/invalid line for Story 1: 2\n",
      "67\n",
      "Average ratings for test set with gpt-3.5-turbo:{'Creativity': 5.567164179104478, 'Consistency': 6.164179104477612, 'Grammar': 5.373134328358209, 'Plot': 6.432835820895522}\n",
      "Average ratings for test set with gpt-4o-2024-08-06:{'Creativity': 5.208955223880597, 'Consistency': 4.3283582089552235, 'Grammar': 5.08955223880597, 'Plot': 4.119402985074627}\n"
     ]
    },
    {
     "name": "stderr",
     "output_type": "stream",
     "text": [
      "Generating for validation with finetuned_tinystories_33M_pretrained_tinystories_tae5f94c: 100%|██████████| 50/50 [00:23<00:00,  2.13it/s]\n"
     ]
    },
    {
     "name": "stdout",
     "output_type": "stream",
     "text": [
      "50\n",
      "Average ratings for validation set with gpt-3.5-turbo:{'Creativity': 5.96, 'Consistency': 6.56, 'Grammar': 6.04, 'Plot': 6.6}\n",
      "Average ratings for validation set with gpt-4o-2024-08-06:{'Creativity': 5.48, 'Consistency': 5.0, 'Grammar': 6.1, 'Plot': 4.52}\n",
      "5338\n"
     ]
    },
    {
     "data": {
      "application/vnd.jupyter.widget-view+json": {
       "model_id": "5314eaf72cb7415bb1d7c354ec7f58e3",
       "version_major": 2,
       "version_minor": 0
      },
      "text/plain": [
       "model.safetensors:   0%|          | 0.00/273M [00:00<?, ?B/s]"
      ]
     },
     "metadata": {},
     "output_type": "display_data"
    },
    {
     "name": "stderr",
     "output_type": "stream",
     "text": [
      "Generating for test with finetuned_tinystories_33M_pretrained_tinystories_ta100257: 100%|██████████| 67/67 [00:31<00:00,  2.12it/s]\n"
     ]
    },
    {
     "name": "stdout",
     "output_type": "stream",
     "text": [
      "67\n",
      "Average ratings for test set with gpt-3.5-turbo:{'Creativity': 5.731343283582089, 'Consistency': 6.462686567164179, 'Grammar': 5.7164179104477615, 'Plot': 6.746268656716418}\n",
      "Average ratings for test set with gpt-4o-2024-08-06:{'Creativity': 5.2835820895522385, 'Consistency': 4.313432835820896, 'Grammar': 4.91044776119403, 'Plot': 4.253731343283582}\n"
     ]
    },
    {
     "name": "stderr",
     "output_type": "stream",
     "text": [
      "Generating for validation with finetuned_tinystories_33M_pretrained_tinystories_ta100257: 100%|██████████| 50/50 [00:22<00:00,  2.23it/s]\n"
     ]
    },
    {
     "name": "stdout",
     "output_type": "stream",
     "text": [
      "50\n",
      "Average ratings for validation set with gpt-3.5-turbo:{'Creativity': 6.02, 'Consistency': 6.74, 'Grammar': 6.2, 'Plot': 6.74}\n",
      "Average ratings for validation set with gpt-4o-2024-08-06:{'Creativity': 5.44, 'Consistency': 4.72, 'Grammar': 6.14, 'Plot': 4.5}\n",
      "4553\n"
     ]
    },
    {
     "data": {
      "application/vnd.jupyter.widget-view+json": {
       "model_id": "ef2a3d8702274a06a114644697d0e2d7",
       "version_major": 2,
       "version_minor": 0
      },
      "text/plain": [
       "model.safetensors:   0%|          | 0.00/273M [00:00<?, ?B/s]"
      ]
     },
     "metadata": {},
     "output_type": "display_data"
    },
    {
     "name": "stderr",
     "output_type": "stream",
     "text": [
      "Generating for test with finetuned_tinystories_33M_pretrained_tinystories_taa37b70: 100%|██████████| 67/67 [00:30<00:00,  2.22it/s]\n"
     ]
    },
    {
     "name": "stdout",
     "output_type": "stream",
     "text": [
      "67\n",
      "Average ratings for test set with gpt-3.5-turbo:{'Creativity': 5.656716417910448, 'Consistency': 6.2388059701492535, 'Grammar': 5.582089552238806, 'Plot': 6.567164179104478}\n",
      "Average ratings for test set with gpt-4o-2024-08-06:{'Creativity': 5.2835820895522385, 'Consistency': 4.343283582089552, 'Grammar': 4.746268656716418, 'Plot': 4.134328358208955}\n"
     ]
    },
    {
     "name": "stderr",
     "output_type": "stream",
     "text": [
      "Generating for validation with finetuned_tinystories_33M_pretrained_tinystories_taa37b70: 100%|██████████| 50/50 [00:22<00:00,  2.17it/s]\n"
     ]
    },
    {
     "name": "stdout",
     "output_type": "stream",
     "text": [
      "50\n",
      "Average ratings for validation set with gpt-3.5-turbo:{'Creativity': 5.98, 'Consistency': 6.54, 'Grammar': 5.68, 'Plot': 6.74}\n",
      "Average ratings for validation set with gpt-4o-2024-08-06:{'Creativity': 5.42, 'Consistency': 4.74, 'Grammar': 6.02, 'Plot': 4.34}\n",
      "3611\n"
     ]
    },
    {
     "data": {
      "application/vnd.jupyter.widget-view+json": {
       "model_id": "e9107244682b440a9b42b5b9d8440664",
       "version_major": 2,
       "version_minor": 0
      },
      "text/plain": [
       "model.safetensors:   0%|          | 0.00/273M [00:00<?, ?B/s]"
      ]
     },
     "metadata": {},
     "output_type": "display_data"
    },
    {
     "name": "stderr",
     "output_type": "stream",
     "text": [
      "Generating for test with finetuned_tinystories_33M_pretrained_tinystories_ta707103: 100%|██████████| 67/67 [00:30<00:00,  2.23it/s]\n"
     ]
    },
    {
     "name": "stdout",
     "output_type": "stream",
     "text": [
      "67\n",
      "Average ratings for test set with gpt-3.5-turbo:{'Creativity': 5.686567164179104, 'Consistency': 6.3283582089552235, 'Grammar': 5.507462686567164, 'Plot': 6.701492537313433}\n",
      "Average ratings for test set with gpt-4o-2024-08-06:{'Creativity': 5.208955223880597, 'Consistency': 4.1940298507462686, 'Grammar': 4.701492537313433, 'Plot': 4.044776119402985}\n"
     ]
    },
    {
     "name": "stderr",
     "output_type": "stream",
     "text": [
      "Generating for validation with finetuned_tinystories_33M_pretrained_tinystories_ta707103: 100%|██████████| 50/50 [00:22<00:00,  2.18it/s]\n"
     ]
    },
    {
     "name": "stdout",
     "output_type": "stream",
     "text": [
      "50\n",
      "Average ratings for validation set with gpt-3.5-turbo:{'Creativity': 6.04, 'Consistency': 6.76, 'Grammar': 5.84, 'Plot': 6.9}\n",
      "Average ratings for validation set with gpt-4o-2024-08-06:{'Creativity': 5.32, 'Consistency': 4.76, 'Grammar': 5.96, 'Plot': 4.36}\n",
      "2826\n"
     ]
    },
    {
     "data": {
      "application/vnd.jupyter.widget-view+json": {
       "model_id": "b6911354bb3f4859848aa9a6b73cff89",
       "version_major": 2,
       "version_minor": 0
      },
      "text/plain": [
       "model.safetensors:   0%|          | 0.00/273M [00:00<?, ?B/s]"
      ]
     },
     "metadata": {},
     "output_type": "display_data"
    },
    {
     "name": "stderr",
     "output_type": "stream",
     "text": [
      "Generating for test with finetuned_tinystories_33M_pretrained_tinystories_ta7f30fc: 100%|██████████| 67/67 [00:29<00:00,  2.26it/s]\n"
     ]
    },
    {
     "name": "stdout",
     "output_type": "stream",
     "text": [
      "67\n",
      "Average ratings for test set with gpt-3.5-turbo:{'Creativity': 5.731343283582089, 'Consistency': 6.358208955223881, 'Grammar': 5.7164179104477615, 'Plot': 6.492537313432836}\n",
      "Average ratings for test set with gpt-4o-2024-08-06:{'Creativity': 5.164179104477612, 'Consistency': 4.1940298507462686, 'Grammar': 5.014925373134329, 'Plot': 4.029850746268656}\n"
     ]
    },
    {
     "name": "stderr",
     "output_type": "stream",
     "text": [
      "Generating for validation with finetuned_tinystories_33M_pretrained_tinystories_ta7f30fc: 100%|██████████| 50/50 [00:22<00:00,  2.20it/s]\n"
     ]
    },
    {
     "name": "stdout",
     "output_type": "stream",
     "text": [
      "50\n",
      "Average ratings for validation set with gpt-3.5-turbo:{'Creativity': 6.02, 'Consistency': 6.58, 'Grammar': 5.6, 'Plot': 6.7}\n",
      "Average ratings for validation set with gpt-4o-2024-08-06:{'Creativity': 5.24, 'Consistency': 4.56, 'Grammar': 5.8, 'Plot': 4.18}\n",
      "1884\n"
     ]
    },
    {
     "data": {
      "application/vnd.jupyter.widget-view+json": {
       "model_id": "f07463917be14246893b89cc843440d3",
       "version_major": 2,
       "version_minor": 0
      },
      "text/plain": [
       "model.safetensors:   0%|          | 0.00/273M [00:00<?, ?B/s]"
      ]
     },
     "metadata": {},
     "output_type": "display_data"
    },
    {
     "name": "stderr",
     "output_type": "stream",
     "text": [
      "Generating for test with finetuned_tinystories_33M_pretrained_tinystories_tadc8a4e: 100%|██████████| 67/67 [00:29<00:00,  2.28it/s]\n"
     ]
    },
    {
     "name": "stdout",
     "output_type": "stream",
     "text": [
      "67\n",
      "Average ratings for test set with gpt-3.5-turbo:{'Creativity': 5.6716417910447765, 'Consistency': 6.08955223880597, 'Grammar': 5.402985074626866, 'Plot': 6.388059701492537}\n",
      "Average ratings for test set with gpt-4o-2024-08-06:{'Creativity': 5.0, 'Consistency': 4.119402985074627, 'Grammar': 4.686567164179104, 'Plot': 3.8059701492537314}\n"
     ]
    },
    {
     "name": "stderr",
     "output_type": "stream",
     "text": [
      "Generating for validation with finetuned_tinystories_33M_pretrained_tinystories_tadc8a4e: 100%|██████████| 50/50 [00:23<00:00,  2.14it/s]\n"
     ]
    },
    {
     "name": "stdout",
     "output_type": "stream",
     "text": [
      "50\n",
      "Average ratings for validation set with gpt-3.5-turbo:{'Creativity': 6.02, 'Consistency': 6.78, 'Grammar': 5.9, 'Plot': 6.6}\n",
      "Average ratings for validation set with gpt-4o-2024-08-06:{'Creativity': 5.2, 'Consistency': 4.4, 'Grammar': 5.64, 'Plot': 4.14}\n",
      "1099\n"
     ]
    },
    {
     "data": {
      "application/vnd.jupyter.widget-view+json": {
       "model_id": "7a24f8765062467eb85b8c097b76a18d",
       "version_major": 2,
       "version_minor": 0
      },
      "text/plain": [
       "model.safetensors:   0%|          | 0.00/273M [00:00<?, ?B/s]"
      ]
     },
     "metadata": {},
     "output_type": "display_data"
    },
    {
     "name": "stderr",
     "output_type": "stream",
     "text": [
      "Generating for test with finetuned_tinystories_33M_pretrained_tinystories_ta056e93: 100%|██████████| 67/67 [00:30<00:00,  2.16it/s]\n"
     ]
    },
    {
     "name": "stdout",
     "output_type": "stream",
     "text": [
      "67\n",
      "Average ratings for test set with gpt-3.5-turbo:{'Creativity': 5.850746268656716, 'Consistency': 6.373134328358209, 'Grammar': 6.119402985074627, 'Plot': 6.597014925373134}\n",
      "Average ratings for test set with gpt-4o-2024-08-06:{'Creativity': 5.2835820895522385, 'Consistency': 4.253731343283582, 'Grammar': 4.850746268656716, 'Plot': 4.014925373134329}\n"
     ]
    },
    {
     "name": "stderr",
     "output_type": "stream",
     "text": [
      "Generating for validation with finetuned_tinystories_33M_pretrained_tinystories_ta056e93: 100%|██████████| 50/50 [00:23<00:00,  2.14it/s]\n"
     ]
    },
    {
     "name": "stdout",
     "output_type": "stream",
     "text": [
      "50\n",
      "Average ratings for validation set with gpt-3.5-turbo:{'Creativity': 5.96, 'Consistency': 6.62, 'Grammar': 5.68, 'Plot': 6.8}\n",
      "Average ratings for validation set with gpt-4o-2024-08-06:{'Creativity': 5.12, 'Consistency': 4.32, 'Grammar': 5.5, 'Plot': 3.98}\n",
      "157\n"
     ]
    },
    {
     "data": {
      "application/vnd.jupyter.widget-view+json": {
       "model_id": "7635fde9ce7e497aa4602d1eb74bfdf9",
       "version_major": 2,
       "version_minor": 0
      },
      "text/plain": [
       "model.safetensors:   0%|          | 0.00/273M [00:00<?, ?B/s]"
      ]
     },
     "metadata": {},
     "output_type": "display_data"
    },
    {
     "name": "stderr",
     "output_type": "stream",
     "text": [
      "Generating for test with finetuned_tinystories_33M_pretrained_tinystories_ta068b6d: 100%|██████████| 67/67 [00:30<00:00,  2.20it/s]\n"
     ]
    },
    {
     "name": "stdout",
     "output_type": "stream",
     "text": [
      "67\n",
      "Average ratings for test set with gpt-3.5-turbo:{'Creativity': 5.82089552238806, 'Consistency': 6.373134328358209, 'Grammar': 5.6716417910447765, 'Plot': 6.373134328358209}\n",
      "Average ratings for test set with gpt-4o-2024-08-06:{'Creativity': 4.791044776119403, 'Consistency': 3.7761194029850746, 'Grammar': 4.17910447761194, 'Plot': 3.4328358208955225}\n"
     ]
    },
    {
     "name": "stderr",
     "output_type": "stream",
     "text": [
      "Generating for validation with finetuned_tinystories_33M_pretrained_tinystories_ta068b6d: 100%|██████████| 50/50 [00:23<00:00,  2.15it/s]\n"
     ]
    },
    {
     "name": "stdout",
     "output_type": "stream",
     "text": [
      "50\n",
      "Average ratings for validation set with gpt-3.5-turbo:{'Creativity': 5.86, 'Consistency': 6.54, 'Grammar': 5.32, 'Plot': 6.3}\n",
      "Average ratings for validation set with gpt-4o-2024-08-06:{'Creativity': 4.88, 'Consistency': 3.82, 'Grammar': 4.4, 'Plot': 3.62}\n",
      "7810\n"
     ]
    },
    {
     "name": "stderr",
     "output_type": "stream",
     "text": [
      "Generating for test with finetuned_Llama_tinystories_tinystories_ta3fd16d: 100%|██████████| 67/67 [00:34<00:00,  1.92it/s]\n"
     ]
    },
    {
     "name": "stdout",
     "output_type": "stream",
     "text": [
      "67\n",
      "Average ratings for test set with gpt-3.5-turbo:{'Creativity': 5.7611940298507465, 'Consistency': 6.208955223880597, 'Grammar': 5.059701492537314, 'Plot': 6.82089552238806}\n",
      "Average ratings for test set with gpt-4o-2024-08-06:{'Creativity': 5.268656716417911, 'Consistency': 4.3283582089552235, 'Grammar': 4.641791044776119, 'Plot': 4.253731343283582}\n"
     ]
    },
    {
     "name": "stderr",
     "output_type": "stream",
     "text": [
      "Generating for validation with finetuned_Llama_tinystories_tinystories_ta3fd16d: 100%|██████████| 50/50 [00:25<00:00,  1.94it/s]\n"
     ]
    },
    {
     "name": "stdout",
     "output_type": "stream",
     "text": [
      "50\n",
      "Average ratings for validation set with gpt-3.5-turbo:{'Creativity': 6.14, 'Consistency': 6.7, 'Grammar': 5.78, 'Plot': 6.84}\n",
      "Average ratings for validation set with gpt-4o-2024-08-06:{'Creativity': 5.26, 'Consistency': 4.54, 'Grammar': 5.82, 'Plot': 4.36}\n",
      "7065\n"
     ]
    },
    {
     "data": {
      "application/vnd.jupyter.widget-view+json": {
       "model_id": "f5208b72773f4779a582df67a3a60240",
       "version_major": 2,
       "version_minor": 0
      },
      "text/plain": [
       "model.safetensors:   0%|          | 0.00/255M [00:00<?, ?B/s]"
      ]
     },
     "metadata": {},
     "output_type": "display_data"
    },
    {
     "name": "stderr",
     "output_type": "stream",
     "text": [
      "Generating for test with finetuned_Llama_tinystories_tinystories_ta44faa8: 100%|██████████| 67/67 [00:35<00:00,  1.88it/s]\n"
     ]
    },
    {
     "name": "stdout",
     "output_type": "stream",
     "text": [
      "67\n",
      "Average ratings for test set with gpt-3.5-turbo:{'Creativity': 5.8059701492537314, 'Consistency': 6.208955223880597, 'Grammar': 5.014925373134329, 'Plot': 7.134328358208955}\n",
      "Average ratings for test set with gpt-4o-2024-08-06:{'Creativity': 5.253731343283582, 'Consistency': 4.313432835820896, 'Grammar': 4.91044776119403, 'Plot': 4.3283582089552235}\n"
     ]
    },
    {
     "name": "stderr",
     "output_type": "stream",
     "text": [
      "Generating for validation with finetuned_Llama_tinystories_tinystories_ta44faa8: 100%|██████████| 50/50 [00:25<00:00,  1.94it/s]\n"
     ]
    },
    {
     "name": "stdout",
     "output_type": "stream",
     "text": [
      "50\n",
      "Average ratings for validation set with gpt-3.5-turbo:{'Creativity': 5.98, 'Consistency': 6.58, 'Grammar': 5.76, 'Plot': 6.88}\n",
      "Average ratings for validation set with gpt-4o-2024-08-06:{'Creativity': 5.34, 'Consistency': 4.72, 'Grammar': 6.3, 'Plot': 4.6}\n",
      "6280\n"
     ]
    },
    {
     "data": {
      "application/vnd.jupyter.widget-view+json": {
       "model_id": "d08a63e93b5e42389966d32a16048a2f",
       "version_major": 2,
       "version_minor": 0
      },
      "text/plain": [
       "model.safetensors:   0%|          | 0.00/255M [00:00<?, ?B/s]"
      ]
     },
     "metadata": {},
     "output_type": "display_data"
    },
    {
     "name": "stderr",
     "output_type": "stream",
     "text": [
      "Generating for test with finetuned_Llama_tinystories_tinystories_ta772061: 100%|██████████| 67/67 [00:33<00:00,  1.98it/s]\n"
     ]
    },
    {
     "name": "stdout",
     "output_type": "stream",
     "text": [
      "67\n",
      "Average ratings for test set with gpt-3.5-turbo:{'Creativity': 5.6716417910447765, 'Consistency': 5.970149253731344, 'Grammar': 5.059701492537314, 'Plot': 6.82089552238806}\n",
      "Average ratings for test set with gpt-4o-2024-08-06:{'Creativity': 5.3283582089552235, 'Consistency': 4.343283582089552, 'Grammar': 4.91044776119403, 'Plot': 4.313432835820896}\n"
     ]
    },
    {
     "name": "stderr",
     "output_type": "stream",
     "text": [
      "Generating for validation with finetuned_Llama_tinystories_tinystories_ta772061: 100%|██████████| 50/50 [00:25<00:00,  1.92it/s]\n"
     ]
    },
    {
     "name": "stdout",
     "output_type": "stream",
     "text": [
      "50\n",
      "Average ratings for validation set with gpt-3.5-turbo:{'Creativity': 6.12, 'Consistency': 6.8, 'Grammar': 5.7, 'Plot': 6.82}\n",
      "Average ratings for validation set with gpt-4o-2024-08-06:{'Creativity': 5.48, 'Consistency': 4.78, 'Grammar': 5.78, 'Plot': 4.46}\n",
      "5338\n"
     ]
    },
    {
     "data": {
      "application/vnd.jupyter.widget-view+json": {
       "model_id": "04c6304fe3e445878c2cba31d93e48b9",
       "version_major": 2,
       "version_minor": 0
      },
      "text/plain": [
       "model.safetensors:   0%|          | 0.00/255M [00:00<?, ?B/s]"
      ]
     },
     "metadata": {},
     "output_type": "display_data"
    },
    {
     "name": "stderr",
     "output_type": "stream",
     "text": [
      "Generating for test with finetuned_Llama_tinystories_tinystories_tac3c1ee: 100%|██████████| 67/67 [00:33<00:00,  1.97it/s]\n"
     ]
    },
    {
     "name": "stdout",
     "output_type": "stream",
     "text": [
      "67\n",
      "Average ratings for test set with gpt-3.5-turbo:{'Creativity': 5.865671641791045, 'Consistency': 6.417910447761194, 'Grammar': 5.373134328358209, 'Plot': 6.940298507462686}\n",
      "Average ratings for test set with gpt-4o-2024-08-06:{'Creativity': 5.149253731343284, 'Consistency': 4.17910447761194, 'Grammar': 4.686567164179104, 'Plot': 4.2388059701492535}\n"
     ]
    },
    {
     "name": "stderr",
     "output_type": "stream",
     "text": [
      "Generating for validation with finetuned_Llama_tinystories_tinystories_tac3c1ee: 100%|██████████| 50/50 [00:26<00:00,  1.88it/s]\n"
     ]
    },
    {
     "name": "stdout",
     "output_type": "stream",
     "text": [
      "50\n",
      "Average ratings for validation set with gpt-3.5-turbo:{'Creativity': 6.04, 'Consistency': 6.72, 'Grammar': 6.34, 'Plot': 6.82}\n",
      "Average ratings for validation set with gpt-4o-2024-08-06:{'Creativity': 5.18, 'Consistency': 4.58, 'Grammar': 5.68, 'Plot': 4.28}\n",
      "4553\n"
     ]
    },
    {
     "data": {
      "application/vnd.jupyter.widget-view+json": {
       "model_id": "580c320b2e694513b2daab94bfb82dd3",
       "version_major": 2,
       "version_minor": 0
      },
      "text/plain": [
       "model.safetensors:   0%|          | 0.00/255M [00:00<?, ?B/s]"
      ]
     },
     "metadata": {},
     "output_type": "display_data"
    },
    {
     "name": "stderr",
     "output_type": "stream",
     "text": [
      "Generating for test with finetuned_Llama_tinystories_tinystories_taf2869d: 100%|██████████| 67/67 [00:35<00:00,  1.89it/s]\n"
     ]
    },
    {
     "name": "stdout",
     "output_type": "stream",
     "text": [
      "67\n",
      "Average ratings for test set with gpt-3.5-turbo:{'Creativity': 5.791044776119403, 'Consistency': 6.164179104477612, 'Grammar': 4.925373134328358, 'Plot': 6.91044776119403}\n",
      "Average ratings for test set with gpt-4o-2024-08-06:{'Creativity': 5.223880597014926, 'Consistency': 4.253731343283582, 'Grammar': 4.507462686567164, 'Plot': 4.1940298507462686}\n"
     ]
    },
    {
     "name": "stderr",
     "output_type": "stream",
     "text": [
      "Generating for validation with finetuned_Llama_tinystories_tinystories_taf2869d: 100%|██████████| 50/50 [00:25<00:00,  1.92it/s]\n"
     ]
    },
    {
     "name": "stdout",
     "output_type": "stream",
     "text": [
      "50\n",
      "Average ratings for validation set with gpt-3.5-turbo:{'Creativity': 6.14, 'Consistency': 6.58, 'Grammar': 5.56, 'Plot': 7.0}\n",
      "Average ratings for validation set with gpt-4o-2024-08-06:{'Creativity': 5.34, 'Consistency': 4.6, 'Grammar': 5.92, 'Plot': 4.44}\n",
      "3611\n"
     ]
    },
    {
     "data": {
      "application/vnd.jupyter.widget-view+json": {
       "model_id": "b200d8007e184c299fbac8aeff5507b6",
       "version_major": 2,
       "version_minor": 0
      },
      "text/plain": [
       "model.safetensors:   0%|          | 0.00/255M [00:00<?, ?B/s]"
      ]
     },
     "metadata": {},
     "output_type": "display_data"
    },
    {
     "name": "stderr",
     "output_type": "stream",
     "text": [
      "Generating for test with finetuned_Llama_tinystories_tinystories_ta0e21d1: 100%|██████████| 67/67 [00:34<00:00,  1.95it/s]\n"
     ]
    },
    {
     "name": "stdout",
     "output_type": "stream",
     "text": [
      "67\n",
      "Average ratings for test set with gpt-3.5-turbo:{'Creativity': 5.7611940298507465, 'Consistency': 6.104477611940299, 'Grammar': 5.119402985074627, 'Plot': 6.925373134328358}\n",
      "Average ratings for test set with gpt-4o-2024-08-06:{'Creativity': 5.1940298507462686, 'Consistency': 4.208955223880597, 'Grammar': 4.402985074626866, 'Plot': 4.059701492537314}\n"
     ]
    },
    {
     "name": "stderr",
     "output_type": "stream",
     "text": [
      "Generating for validation with finetuned_Llama_tinystories_tinystories_ta0e21d1: 100%|██████████| 50/50 [00:26<00:00,  1.86it/s]\n"
     ]
    },
    {
     "name": "stdout",
     "output_type": "stream",
     "text": [
      "50\n",
      "Average ratings for validation set with gpt-3.5-turbo:{'Creativity': 6.14, 'Consistency': 6.78, 'Grammar': 6.04, 'Plot': 7.0}\n",
      "Average ratings for validation set with gpt-4o-2024-08-06:{'Creativity': 5.2, 'Consistency': 4.28, 'Grammar': 5.52, 'Plot': 4.06}\n",
      "2826\n"
     ]
    },
    {
     "data": {
      "application/vnd.jupyter.widget-view+json": {
       "model_id": "3eb64e732c7a4c09a634a84891885d90",
       "version_major": 2,
       "version_minor": 0
      },
      "text/plain": [
       "model.safetensors:   0%|          | 0.00/255M [00:00<?, ?B/s]"
      ]
     },
     "metadata": {},
     "output_type": "display_data"
    },
    {
     "name": "stderr",
     "output_type": "stream",
     "text": [
      "Generating for test with finetuned_Llama_tinystories_tinystories_ta7ac55e: 100%|██████████| 67/67 [00:35<00:00,  1.91it/s]\n"
     ]
    },
    {
     "name": "stdout",
     "output_type": "stream",
     "text": [
      "67\n",
      "Average ratings for test set with gpt-3.5-turbo:{'Creativity': 5.880597014925373, 'Consistency': 6.223880597014926, 'Grammar': 4.940298507462686, 'Plot': 6.880597014925373}\n",
      "Average ratings for test set with gpt-4o-2024-08-06:{'Creativity': 5.223880597014926, 'Consistency': 4.1940298507462686, 'Grammar': 4.626865671641791, 'Plot': 4.149253731343284}\n"
     ]
    },
    {
     "name": "stderr",
     "output_type": "stream",
     "text": [
      "Generating for validation with finetuned_Llama_tinystories_tinystories_ta7ac55e: 100%|██████████| 50/50 [00:26<00:00,  1.89it/s]\n"
     ]
    },
    {
     "name": "stdout",
     "output_type": "stream",
     "text": [
      "50\n",
      "Average ratings for validation set with gpt-3.5-turbo:{'Creativity': 6.06, 'Consistency': 6.74, 'Grammar': 6.1, 'Plot': 6.94}\n",
      "Average ratings for validation set with gpt-4o-2024-08-06:{'Creativity': 5.2, 'Consistency': 4.52, 'Grammar': 5.74, 'Plot': 4.12}\n",
      "1884\n"
     ]
    },
    {
     "data": {
      "application/vnd.jupyter.widget-view+json": {
       "model_id": "d8a36f3d1d6c457c9a0c8c59a6024745",
       "version_major": 2,
       "version_minor": 0
      },
      "text/plain": [
       "model.safetensors:   0%|          | 0.00/255M [00:00<?, ?B/s]"
      ]
     },
     "metadata": {},
     "output_type": "display_data"
    },
    {
     "name": "stderr",
     "output_type": "stream",
     "text": [
      "Generating for test with finetuned_Llama_tinystories_tinystories_tae0f571: 100%|██████████| 67/67 [00:35<00:00,  1.87it/s]\n"
     ]
    },
    {
     "name": "stdout",
     "output_type": "stream",
     "text": [
      "67\n",
      "Average ratings for test set with gpt-3.5-turbo:{'Creativity': 5.925373134328358, 'Consistency': 6.268656716417911, 'Grammar': 5.492537313432836, 'Plot': 7.044776119402985}\n",
      "Average ratings for test set with gpt-4o-2024-08-06:{'Creativity': 5.149253731343284, 'Consistency': 4.149253731343284, 'Grammar': 4.8059701492537314, 'Plot': 4.1940298507462686}\n"
     ]
    },
    {
     "name": "stderr",
     "output_type": "stream",
     "text": [
      "Generating for validation with finetuned_Llama_tinystories_tinystories_tae0f571: 100%|██████████| 50/50 [00:26<00:00,  1.91it/s]\n"
     ]
    },
    {
     "name": "stdout",
     "output_type": "stream",
     "text": [
      "50\n",
      "Average ratings for validation set with gpt-3.5-turbo:{'Creativity': 6.12, 'Consistency': 6.6, 'Grammar': 5.84, 'Plot': 6.94}\n",
      "Average ratings for validation set with gpt-4o-2024-08-06:{'Creativity': 5.26, 'Consistency': 4.3, 'Grammar': 5.22, 'Plot': 4.2}\n",
      "1099\n"
     ]
    },
    {
     "data": {
      "application/vnd.jupyter.widget-view+json": {
       "model_id": "4937909dda034f71815086df59b84fb0",
       "version_major": 2,
       "version_minor": 0
      },
      "text/plain": [
       "model.safetensors:   0%|          | 0.00/255M [00:00<?, ?B/s]"
      ]
     },
     "metadata": {},
     "output_type": "display_data"
    },
    {
     "name": "stderr",
     "output_type": "stream",
     "text": [
      "Generating for test with finetuned_Llama_tinystories_tinystories_ta9d7d49: 100%|██████████| 67/67 [00:34<00:00,  1.92it/s]\n"
     ]
    },
    {
     "name": "stdout",
     "output_type": "stream",
     "text": [
      "67\n",
      "Average ratings for test set with gpt-3.5-turbo:{'Creativity': 5.850746268656716, 'Consistency': 6.014925373134329, 'Grammar': 5.059701492537314, 'Plot': 6.7164179104477615}\n",
      "Average ratings for test set with gpt-4o-2024-08-06:{'Creativity': 5.134328358208955, 'Consistency': 4.149253731343284, 'Grammar': 4.223880597014926, 'Plot': 4.0}\n"
     ]
    },
    {
     "name": "stderr",
     "output_type": "stream",
     "text": [
      "Generating for validation with finetuned_Llama_tinystories_tinystories_ta9d7d49: 100%|██████████| 50/50 [00:26<00:00,  1.91it/s]\n"
     ]
    },
    {
     "name": "stdout",
     "output_type": "stream",
     "text": [
      "50\n",
      "Average ratings for validation set with gpt-3.5-turbo:{'Creativity': 5.92, 'Consistency': 6.4, 'Grammar': 5.46, 'Plot': 6.8}\n",
      "Average ratings for validation set with gpt-4o-2024-08-06:{'Creativity': 5.1, 'Consistency': 4.08, 'Grammar': 4.96, 'Plot': 4.14}\n",
      "157\n"
     ]
    },
    {
     "data": {
      "application/vnd.jupyter.widget-view+json": {
       "model_id": "5eea5cba85ef4bd6a9b7530ca57d0d89",
       "version_major": 2,
       "version_minor": 0
      },
      "text/plain": [
       "model.safetensors:   0%|          | 0.00/255M [00:00<?, ?B/s]"
      ]
     },
     "metadata": {},
     "output_type": "display_data"
    },
    {
     "name": "stderr",
     "output_type": "stream",
     "text": [
      "Generating for test with finetuned_Llama_tinystories_tinystories_ta0c34a0: 100%|██████████| 67/67 [00:35<00:00,  1.91it/s]\n"
     ]
    },
    {
     "name": "stdout",
     "output_type": "stream",
     "text": [
      "67\n",
      "Average ratings for test set with gpt-3.5-turbo:{'Creativity': 5.522388059701493, 'Consistency': 5.567164179104478, 'Grammar': 4.776119402985074, 'Plot': 6.298507462686567}\n",
      "Average ratings for test set with gpt-4o-2024-08-06:{'Creativity': 4.164179104477612, 'Consistency': 2.955223880597015, 'Grammar': 3.044776119402985, 'Plot': 2.91044776119403}\n"
     ]
    },
    {
     "name": "stderr",
     "output_type": "stream",
     "text": [
      "Generating for validation with finetuned_Llama_tinystories_tinystories_ta0c34a0: 100%|██████████| 50/50 [00:26<00:00,  1.88it/s]\n"
     ]
    },
    {
     "name": "stdout",
     "output_type": "stream",
     "text": [
      "50\n",
      "Average ratings for validation set with gpt-3.5-turbo:{'Creativity': 5.7, 'Consistency': 5.5, 'Grammar': 4.92, 'Plot': 6.32}\n",
      "Average ratings for validation set with gpt-4o-2024-08-06:{'Creativity': 4.2, 'Consistency': 2.92, 'Grammar': 3.4, 'Plot': 2.92}\n"
     ]
    }
   ],
   "source": [
    "for model in models:\n",
    "    all_checkpoints = huggingface_hub.HfApi().list_repo_commits(model)\n",
    "    all_checkpoints = [commit for commit in all_checkpoints if \"Training in progress, step\" in commit.title]\n",
    "    N = len(all_checkpoints)\n",
    "    indices = np.linspace(0, N-1, 10, dtype=int)\n",
    "    selected_commits = [all_checkpoints[i] for i in indices]\n",
    "    all_ratings = []\n",
    "    for checkpoint in selected_commits:\n",
    "        model_config = json.dumps({\"model_path_dict\": {\"pretrained_model_name_or_path\": model,\"revision\": checkpoint.commit_id}, \"tokenizer_name\": model})\n",
    "        all_ratings.append({\"commit\":checkpoint.commit_id, \"Iter\":int(checkpoint.title.replace(\"Training in progress, step \",\"\")), \"ratings\": generate_and_rate(model_config)})\n",
    "    file_name = model.replace(\"tniranjan/finetuned_\",\"avg_rating_\") + \".json\"\n",
    "    json.dump(all_ratings, open(\"evaluation/\" + file_name, \"w\", encoding=\"utf-8\"), ensure_ascii=False, indent=4)"
   ]
  }
 ],
 "metadata": {
  "kernelspec": {
   "display_name": "base",
   "language": "python",
   "name": "python3"
  },
  "language_info": {
   "codemirror_mode": {
    "name": "ipython",
    "version": 3
   },
   "file_extension": ".py",
   "mimetype": "text/x-python",
   "name": "python",
   "nbconvert_exporter": "python",
   "pygments_lexer": "ipython3",
   "version": "3.12.2"
  }
 },
 "nbformat": 4,
 "nbformat_minor": 2
}
